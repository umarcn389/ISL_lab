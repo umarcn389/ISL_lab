{
 "cells": [
  {
   "cell_type": "code",
   "execution_count": 9,
   "id": "0258f32e",
   "metadata": {},
   "outputs": [],
   "source": [
    "import numpy as np\n",
    "import pandas as pd\n",
    "from sklearn.datasets import load_iris\n",
    "from sklearn.model_selection import train_test_split\n",
    "from sklearn.metrics import confusion_matrix,classification_report,accuracy_score"
   ]
  },
  {
   "cell_type": "code",
   "execution_count": 43,
   "id": "09a43674",
   "metadata": {},
   "outputs": [],
   "source": [
    "data=load_iris()\n",
    "x=data.data\n",
    "y=data.target\n",
    "d_names=data.target_names"
   ]
  },
  {
   "cell_type": "code",
   "execution_count": 11,
   "id": "0e48dcf5",
   "metadata": {},
   "outputs": [],
   "source": [
    "x_train,x_test,y_train,y_test=train_test_split(x,y,test_size=0.3,random_state=1)"
   ]
  },
  {
   "cell_type": "code",
   "execution_count": 12,
   "id": "edc9dbe0",
   "metadata": {},
   "outputs": [],
   "source": [
    "def predict_one(x_train,y_train,x,k):\n",
    "    dist={}\n",
    "    for i in range(len(x_train)):\n",
    "        cd=(((x-x_train[i])**2).sum())**(1/2)\n",
    "        dist[cd]=y_train[i]\n",
    "        sorted_dist=sorted(dist.items())\n",
    "        target=[]\n",
    "        dist_sort=sorted_dist[:k]\n",
    "        for key,v in dist_sort:\n",
    "            target.append(v)      \n",
    "    return max(set(target),key = target.count)    "
   ]
  },
  {
   "cell_type": "code",
   "execution_count": 13,
   "id": "2ca7bb41",
   "metadata": {},
   "outputs": [],
   "source": [
    "def predcit(x_train,y_train,x_test,k):\n",
    "    predictions=[]\n",
    "    for x in x_test:\n",
    "        predictions.append(predict_one(x_train,y_train,x,k))\n",
    "    return predictions    "
   ]
  },
  {
   "cell_type": "code",
   "execution_count": 36,
   "id": "04fa46cb",
   "metadata": {},
   "outputs": [],
   "source": [
    "y_pred=predcit(x_train,y_train,x_test,3)"
   ]
  },
  {
   "cell_type": "code",
   "execution_count": 28,
   "id": "e75a8c68",
   "metadata": {},
   "outputs": [],
   "source": [
    "y_pred_train=predcit(x_train,y_train,x_train,3)"
   ]
  },
  {
   "cell_type": "code",
   "execution_count": 40,
   "id": "048dd2ec",
   "metadata": {},
   "outputs": [
    {
     "name": "stdout",
     "output_type": "stream",
     "text": [
      "Training Accuracy 0.9523809523809523\n"
     ]
    }
   ],
   "source": [
    "print(\"Training Accuracy\",accuracy_score(y_train,y_pred_train))"
   ]
  },
  {
   "cell_type": "code",
   "execution_count": 42,
   "id": "d1fea32e",
   "metadata": {},
   "outputs": [
    {
     "name": "stdout",
     "output_type": "stream",
     "text": [
      "Testing Accuracy 0.9777777777777777\n"
     ]
    }
   ],
   "source": [
    "print(\"Testing Accuracy\",accuracy_score(y_test,y_pred))"
   ]
  },
  {
   "cell_type": "code",
   "execution_count": 18,
   "id": "68851e6c",
   "metadata": {},
   "outputs": [
    {
     "name": "stdout",
     "output_type": "stream",
     "text": [
      "[[14  0  0]\n",
      " [ 0 18  0]\n",
      " [ 0  1 12]]\n"
     ]
    }
   ],
   "source": [
    "print(confusion_matrix(y_test,y_pred))"
   ]
  },
  {
   "cell_type": "code",
   "execution_count": 45,
   "id": "df856879",
   "metadata": {},
   "outputs": [
    {
     "name": "stdout",
     "output_type": "stream",
     "text": [
      "Predicted-:0 Predicted Label-:setosa Original Label-:setosa\n",
      "Predicted-:1 Predicted Label-:versicolor Original Label-:versicolor\n",
      "Predicted-:1 Predicted Label-:versicolor Original Label-:versicolor\n",
      "Predicted-:0 Predicted Label-:setosa Original Label-:setosa\n",
      "Predicted-:2 Predicted Label-:virginica Original Label-:virginica\n",
      "Predicted-:1 Predicted Label-:versicolor Original Label-:versicolor\n",
      "Predicted-:2 Predicted Label-:virginica Original Label-:virginica\n",
      "Predicted-:0 Predicted Label-:setosa Original Label-:setosa\n",
      "Predicted-:0 Predicted Label-:setosa Original Label-:setosa\n",
      "Predicted-:2 Predicted Label-:virginica Original Label-:virginica\n",
      "Predicted-:1 Predicted Label-:versicolor Original Label-:versicolor\n",
      "Predicted-:0 Predicted Label-:setosa Original Label-:setosa\n",
      "Predicted-:2 Predicted Label-:virginica Original Label-:virginica\n",
      "Predicted-:1 Predicted Label-:versicolor Original Label-:versicolor\n",
      "Predicted-:1 Predicted Label-:versicolor Original Label-:versicolor\n",
      "Predicted-:0 Predicted Label-:setosa Original Label-:setosa\n",
      "Predicted-:1 Predicted Label-:versicolor Original Label-:versicolor\n",
      "Predicted-:1 Predicted Label-:versicolor Original Label-:versicolor\n",
      "Predicted-:0 Predicted Label-:setosa Original Label-:setosa\n",
      "Predicted-:0 Predicted Label-:setosa Original Label-:setosa\n",
      "Predicted-:1 Predicted Label-:versicolor Original Label-:versicolor\n",
      "Predicted-:1 Predicted Label-:versicolor Original Label-:versicolor\n",
      "Predicted-:1 Predicted Label-:versicolor Original Label-:versicolor\n",
      "Predicted-:0 Predicted Label-:setosa Original Label-:setosa\n",
      "Predicted-:2 Predicted Label-:virginica Original Label-:virginica\n",
      "Predicted-:1 Predicted Label-:versicolor Original Label-:versicolor\n",
      "Predicted-:0 Predicted Label-:setosa Original Label-:setosa\n",
      "Predicted-:0 Predicted Label-:setosa Original Label-:setosa\n",
      "Predicted-:1 Predicted Label-:versicolor Original Label-:versicolor\n",
      "Predicted-:2 Predicted Label-:virginica Original Label-:virginica\n",
      "Predicted-:1 Predicted Label-:versicolor Original Label-:versicolor\n",
      "Predicted-:2 Predicted Label-:virginica Original Label-:virginica\n",
      "Predicted-:1 Predicted Label-:versicolor Original Label-:versicolor\n",
      "Predicted-:2 Predicted Label-:virginica Original Label-:virginica\n",
      "Predicted-:2 Predicted Label-:virginica Original Label-:virginica\n",
      "Predicted-:0 Predicted Label-:setosa Original Label-:setosa\n",
      "Predicted-:1 Predicted Label-:versicolor Original Label-:versicolor\n",
      "Predicted-:0 Predicted Label-:setosa Original Label-:setosa\n",
      "Predicted-:1 Predicted Label-:versicolor Original Label-:versicolor\n",
      "Predicted-:2 Predicted Label-:virginica Original Label-:virginica\n",
      "Predicted-:2 Predicted Label-:virginica Original Label-:virginica\n",
      "Predicted-:0 Predicted Label-:setosa Original Label-:setosa\n",
      "Predicted-:1 Predicted Label-:versicolor Original Label-:virginica\n",
      "Predicted-:2 Predicted Label-:virginica Original Label-:virginica\n",
      "Predicted-:1 Predicted Label-:versicolor Original Label-:versicolor\n"
     ]
    }
   ],
   "source": [
    "for i in range(len(y_test)):\n",
    "    print(f'Predicted-:{y_pred[i]} Predicted Label-:{d_names[y_pred[i]]} Original Label-:{d_names[y_test[i]]}')"
   ]
  },
  {
   "cell_type": "code",
   "execution_count": 47,
   "id": "28b5573e",
   "metadata": {},
   "outputs": [],
   "source": [
    "correct=[]\n",
    "incorrect=[]\n",
    "for i in range(len(y_test)):\n",
    "    if y_pred[i]==y_test[i]:\n",
    "        correct.append((x_test[i],y_pred[i],d_names[y_pred[i]]))\n",
    "    else:\n",
    "        incorrect.append((x_test[i],y_pred[i],y_test[i],d_names[y_pred[i]]))"
   ]
  },
  {
   "cell_type": "code",
   "execution_count": 48,
   "id": "1ae86471",
   "metadata": {},
   "outputs": [
    {
     "name": "stdout",
     "output_type": "stream",
     "text": [
      "Correct Predictions-:\n"
     ]
    },
    {
     "data": {
      "text/plain": [
       "[(array([5.8, 4. , 1.2, 0.2]), 0, 'setosa'),\n",
       " (array([5.1, 2.5, 3. , 1.1]), 1, 'versicolor'),\n",
       " (array([6.6, 3. , 4.4, 1.4]), 1, 'versicolor'),\n",
       " (array([5.4, 3.9, 1.3, 0.4]), 0, 'setosa'),\n",
       " (array([7.9, 3.8, 6.4, 2. ]), 2, 'virginica'),\n",
       " (array([6.3, 3.3, 4.7, 1.6]), 1, 'versicolor'),\n",
       " (array([6.9, 3.1, 5.1, 2.3]), 2, 'virginica'),\n",
       " (array([5.1, 3.8, 1.9, 0.4]), 0, 'setosa'),\n",
       " (array([4.7, 3.2, 1.6, 0.2]), 0, 'setosa'),\n",
       " (array([6.9, 3.2, 5.7, 2.3]), 2, 'virginica'),\n",
       " (array([5.6, 2.7, 4.2, 1.3]), 1, 'versicolor'),\n",
       " (array([5.4, 3.9, 1.7, 0.4]), 0, 'setosa'),\n",
       " (array([7.1, 3. , 5.9, 2.1]), 2, 'virginica'),\n",
       " (array([6.4, 3.2, 4.5, 1.5]), 1, 'versicolor'),\n",
       " (array([6. , 2.9, 4.5, 1.5]), 1, 'versicolor'),\n",
       " (array([4.4, 3.2, 1.3, 0.2]), 0, 'setosa'),\n",
       " (array([5.8, 2.6, 4. , 1.2]), 1, 'versicolor'),\n",
       " (array([5.6, 3. , 4.5, 1.5]), 1, 'versicolor'),\n",
       " (array([5.4, 3.4, 1.5, 0.4]), 0, 'setosa'),\n",
       " (array([5. , 3.2, 1.2, 0.2]), 0, 'setosa'),\n",
       " (array([5.5, 2.6, 4.4, 1.2]), 1, 'versicolor'),\n",
       " (array([5.4, 3. , 4.5, 1.5]), 1, 'versicolor'),\n",
       " (array([6.7, 3. , 5. , 1.7]), 1, 'versicolor'),\n",
       " (array([5. , 3.5, 1.3, 0.3]), 0, 'setosa'),\n",
       " (array([7.2, 3.2, 6. , 1.8]), 2, 'virginica'),\n",
       " (array([5.7, 2.8, 4.1, 1.3]), 1, 'versicolor'),\n",
       " (array([5.5, 4.2, 1.4, 0.2]), 0, 'setosa'),\n",
       " (array([5.1, 3.8, 1.5, 0.3]), 0, 'setosa'),\n",
       " (array([6.1, 2.8, 4.7, 1.2]), 1, 'versicolor'),\n",
       " (array([6.3, 2.5, 5. , 1.9]), 2, 'virginica'),\n",
       " (array([6.1, 3. , 4.6, 1.4]), 1, 'versicolor'),\n",
       " (array([7.7, 3. , 6.1, 2.3]), 2, 'virginica'),\n",
       " (array([5.6, 2.5, 3.9, 1.1]), 1, 'versicolor'),\n",
       " (array([6.4, 2.8, 5.6, 2.1]), 2, 'virginica'),\n",
       " (array([5.8, 2.8, 5.1, 2.4]), 2, 'virginica'),\n",
       " (array([5.3, 3.7, 1.5, 0.2]), 0, 'setosa'),\n",
       " (array([5.5, 2.3, 4. , 1.3]), 1, 'versicolor'),\n",
       " (array([5.2, 3.4, 1.4, 0.2]), 0, 'setosa'),\n",
       " (array([6.5, 2.8, 4.6, 1.5]), 1, 'versicolor'),\n",
       " (array([6.7, 2.5, 5.8, 1.8]), 2, 'virginica'),\n",
       " (array([6.8, 3. , 5.5, 2.1]), 2, 'virginica'),\n",
       " (array([5.1, 3.5, 1.4, 0.3]), 0, 'setosa'),\n",
       " (array([6.3, 2.9, 5.6, 1.8]), 2, 'virginica'),\n",
       " (array([6.6, 2.9, 4.6, 1.3]), 1, 'versicolor')]"
      ]
     },
     "execution_count": 48,
     "metadata": {},
     "output_type": "execute_result"
    }
   ],
   "source": [
    "print(\"Correct Predictions-:\")\n",
    "correct"
   ]
  },
  {
   "cell_type": "code",
   "execution_count": 49,
   "id": "d7cd7649",
   "metadata": {},
   "outputs": [
    {
     "name": "stdout",
     "output_type": "stream",
     "text": [
      "In Correct Predictions-:\n"
     ]
    },
    {
     "data": {
      "text/plain": [
       "[(array([6. , 2.2, 5. , 1.5]), 1, 2, 'versicolor')]"
      ]
     },
     "execution_count": 49,
     "metadata": {},
     "output_type": "execute_result"
    }
   ],
   "source": [
    "print(\"In Correct Predictions-:\")\n",
    "incorrect"
   ]
  },
  {
   "cell_type": "code",
   "execution_count": 54,
   "id": "4469794d",
   "metadata": {},
   "outputs": [
    {
     "ename": "TypeError",
     "evalue": "'int' object is not subscriptable",
     "output_type": "error",
     "traceback": [
      "\u001b[1;31m---------------------------------------------------------------------------\u001b[0m",
      "\u001b[1;31mTypeError\u001b[0m                                 Traceback (most recent call last)",
      "Cell \u001b[1;32mIn[54], line 3\u001b[0m\n\u001b[0;32m      1\u001b[0m d\u001b[38;5;241m=\u001b[39mnp\u001b[38;5;241m.\u001b[39marray([\u001b[38;5;241m2.1\u001b[39m,\u001b[38;5;241m1.2\u001b[39m,\u001b[38;5;241m0.6\u001b[39m,\u001b[38;5;241m0.3\u001b[39m])\u001b[38;5;241m.\u001b[39mreshape(\u001b[38;5;241m1\u001b[39m,\u001b[38;5;241m-\u001b[39m\u001b[38;5;241m1\u001b[39m)\n\u001b[0;32m      2\u001b[0m d\u001b[38;5;241m.\u001b[39mshape\n\u001b[1;32m----> 3\u001b[0m \u001b[43mpredict_one\u001b[49m\u001b[43m(\u001b[49m\u001b[43md\u001b[49m\u001b[43m,\u001b[49m\u001b[38;5;241;43m0\u001b[39;49m\u001b[43m,\u001b[49m\u001b[38;5;241;43m1.3\u001b[39;49m\u001b[43m,\u001b[49m\u001b[38;5;241;43m3\u001b[39;49m\u001b[43m)\u001b[49m\n",
      "Cell \u001b[1;32mIn[12], line 5\u001b[0m, in \u001b[0;36mpredict_one\u001b[1;34m(x_train, y_train, x, k)\u001b[0m\n\u001b[0;32m      3\u001b[0m \u001b[38;5;28;01mfor\u001b[39;00m i \u001b[38;5;129;01min\u001b[39;00m \u001b[38;5;28mrange\u001b[39m(\u001b[38;5;28mlen\u001b[39m(x_train)):\n\u001b[0;32m      4\u001b[0m     cd\u001b[38;5;241m=\u001b[39m(((x\u001b[38;5;241m-\u001b[39mx_train[i])\u001b[38;5;241m*\u001b[39m\u001b[38;5;241m*\u001b[39m\u001b[38;5;241m2\u001b[39m)\u001b[38;5;241m.\u001b[39msum())\u001b[38;5;241m*\u001b[39m\u001b[38;5;241m*\u001b[39m(\u001b[38;5;241m1\u001b[39m\u001b[38;5;241m/\u001b[39m\u001b[38;5;241m2\u001b[39m)\n\u001b[1;32m----> 5\u001b[0m     dist[cd]\u001b[38;5;241m=\u001b[39m\u001b[43my_train\u001b[49m\u001b[43m[\u001b[49m\u001b[43mi\u001b[49m\u001b[43m]\u001b[49m\n\u001b[0;32m      6\u001b[0m     sorted_dist\u001b[38;5;241m=\u001b[39m\u001b[38;5;28msorted\u001b[39m(dist\u001b[38;5;241m.\u001b[39mitems())\n\u001b[0;32m      7\u001b[0m     target\u001b[38;5;241m=\u001b[39m[]\n",
      "\u001b[1;31mTypeError\u001b[0m: 'int' object is not subscriptable"
     ]
    }
   ],
   "source": [
    "d=np.array([2.1,1.2,0.6,0.3]).reshape(1,-1)\n",
    "d.shape\n",
    "predict_one(d,0,1.3,3)"
   ]
  }
 ],
 "metadata": {
  "kernelspec": {
   "display_name": "Python 3 (ipykernel)",
   "language": "python",
   "name": "python3"
  },
  "language_info": {
   "codemirror_mode": {
    "name": "ipython",
    "version": 3
   },
   "file_extension": ".py",
   "mimetype": "text/x-python",
   "name": "python",
   "nbconvert_exporter": "python",
   "pygments_lexer": "ipython3",
   "version": "3.11.3"
  }
 },
 "nbformat": 4,
 "nbformat_minor": 5
}
