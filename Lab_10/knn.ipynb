{
 "cells": [
  {
   "cell_type": "code",
   "execution_count": 142,
   "id": "0258f32e",
   "metadata": {},
   "outputs": [],
   "source": [
    "import numpy as np\n",
    "import pandas as pd\n",
    "from sklearn.datasets import load_iris\n",
    "from sklearn.model_selection import train_test_split\n",
    "from sklearn.metrics import confusion_matrix,classification_report,accuracy_score\n",
    "from sklearn.neighbors import KNeighborsClassifier"
   ]
  },
  {
   "cell_type": "code",
   "execution_count": 143,
   "id": "2df2b6a3",
   "metadata": {},
   "outputs": [],
   "source": [
    "data=load_iris()\n",
    "x=data.data\n",
    "y=data.target\n",
    "d_names=data.target_names"
   ]
  },
  {
   "cell_type": "code",
   "execution_count": 144,
   "id": "4d0384d7",
   "metadata": {},
   "outputs": [],
   "source": [
    "x_train,x_test,y_train,y_test=train_test_split(x,y,test_size=0.5,random_state=1)"
   ]
  },
  {
   "cell_type": "code",
   "execution_count": 145,
   "id": "958975cc",
   "metadata": {},
   "outputs": [],
   "source": [
    "def predict_one(x_train,y_train,x,k):\n",
    "    dist={}\n",
    "    for i in range(len(x_train)):\n",
    "        cd=(((x-x_train[i])**2).sum())**(1/2)\n",
    "        dist[cd]=y_train[i]\n",
    "        sorted_dist=sorted(dist.items())\n",
    "        target=[]\n",
    "        dist_sort=sorted_dist[:k]\n",
    "        for key,v in dist_sort:\n",
    "            target.append(v)      \n",
    "    return max(set(target),key = target.count)    "
   ]
  },
  {
   "cell_type": "code",
   "execution_count": 146,
   "id": "473df87b",
   "metadata": {},
   "outputs": [],
   "source": [
    "def predcit(x_train,y_train,x_test,k):\n",
    "    predictions=[]\n",
    "    for x in x_test:\n",
    "        predictions.append(predict_one(x_train,y_train,x,k))\n",
    "    return predictions    "
   ]
  },
  {
   "cell_type": "code",
   "execution_count": 147,
   "id": "f0ffe9a6",
   "metadata": {},
   "outputs": [],
   "source": [
    "y_pred=predcit(x_train,y_train,x_test,3)"
   ]
  },
  {
   "cell_type": "code",
   "execution_count": 148,
   "id": "c25314e1",
   "metadata": {},
   "outputs": [],
   "source": [
    "y_pred_train=predcit(x_train,y_train,x_train,3)"
   ]
  },
  {
   "cell_type": "code",
   "execution_count": 149,
   "id": "262c9360",
   "metadata": {},
   "outputs": [
    {
     "name": "stdout",
     "output_type": "stream",
     "text": [
      "Training Accuracy 0.9733333333333334\n"
     ]
    }
   ],
   "source": [
    "print(\"Training Accuracy\",accuracy_score(y_train,y_pred_train))"
   ]
  },
  {
   "cell_type": "code",
   "execution_count": 150,
   "id": "25e934a4",
   "metadata": {},
   "outputs": [
    {
     "name": "stdout",
     "output_type": "stream",
     "text": [
      "Testing Accuracy 0.92\n"
     ]
    }
   ],
   "source": [
    "print(\"Testing Accuracy\",accuracy_score(y_test,y_pred))"
   ]
  },
  {
   "cell_type": "code",
   "execution_count": 151,
   "id": "f3b6c72c",
   "metadata": {},
   "outputs": [
    {
     "name": "stdout",
     "output_type": "stream",
     "text": [
      "[[24  0  0]\n",
      " [ 0 24  0]\n",
      " [ 0  6 21]]\n"
     ]
    }
   ],
   "source": [
    "print(confusion_matrix(y_test,y_pred))"
   ]
  },
  {
   "cell_type": "code",
   "execution_count": 152,
   "id": "fbf1b3cd",
   "metadata": {},
   "outputs": [
    {
     "name": "stdout",
     "output_type": "stream",
     "text": [
      "Predicted-:0 Predicted Label-:setosa Original Label-:setosa\n",
      "Predicted-:1 Predicted Label-:versicolor Original Label-:versicolor\n",
      "Predicted-:1 Predicted Label-:versicolor Original Label-:versicolor\n",
      "Predicted-:0 Predicted Label-:setosa Original Label-:setosa\n",
      "Predicted-:2 Predicted Label-:virginica Original Label-:virginica\n",
      "Predicted-:1 Predicted Label-:versicolor Original Label-:versicolor\n",
      "Predicted-:2 Predicted Label-:virginica Original Label-:virginica\n",
      "Predicted-:0 Predicted Label-:setosa Original Label-:setosa\n",
      "Predicted-:0 Predicted Label-:setosa Original Label-:setosa\n",
      "Predicted-:2 Predicted Label-:virginica Original Label-:virginica\n",
      "Predicted-:1 Predicted Label-:versicolor Original Label-:versicolor\n",
      "Predicted-:0 Predicted Label-:setosa Original Label-:setosa\n",
      "Predicted-:2 Predicted Label-:virginica Original Label-:virginica\n",
      "Predicted-:1 Predicted Label-:versicolor Original Label-:versicolor\n",
      "Predicted-:1 Predicted Label-:versicolor Original Label-:versicolor\n",
      "Predicted-:0 Predicted Label-:setosa Original Label-:setosa\n",
      "Predicted-:1 Predicted Label-:versicolor Original Label-:versicolor\n",
      "Predicted-:1 Predicted Label-:versicolor Original Label-:versicolor\n",
      "Predicted-:0 Predicted Label-:setosa Original Label-:setosa\n",
      "Predicted-:0 Predicted Label-:setosa Original Label-:setosa\n",
      "Predicted-:1 Predicted Label-:versicolor Original Label-:versicolor\n",
      "Predicted-:1 Predicted Label-:versicolor Original Label-:versicolor\n",
      "Predicted-:1 Predicted Label-:versicolor Original Label-:versicolor\n",
      "Predicted-:0 Predicted Label-:setosa Original Label-:setosa\n",
      "Predicted-:2 Predicted Label-:virginica Original Label-:virginica\n",
      "Predicted-:1 Predicted Label-:versicolor Original Label-:versicolor\n",
      "Predicted-:0 Predicted Label-:setosa Original Label-:setosa\n",
      "Predicted-:0 Predicted Label-:setosa Original Label-:setosa\n",
      "Predicted-:1 Predicted Label-:versicolor Original Label-:versicolor\n",
      "Predicted-:1 Predicted Label-:versicolor Original Label-:virginica\n",
      "Predicted-:1 Predicted Label-:versicolor Original Label-:versicolor\n",
      "Predicted-:2 Predicted Label-:virginica Original Label-:virginica\n",
      "Predicted-:1 Predicted Label-:versicolor Original Label-:versicolor\n",
      "Predicted-:2 Predicted Label-:virginica Original Label-:virginica\n",
      "Predicted-:2 Predicted Label-:virginica Original Label-:virginica\n",
      "Predicted-:0 Predicted Label-:setosa Original Label-:setosa\n",
      "Predicted-:1 Predicted Label-:versicolor Original Label-:versicolor\n",
      "Predicted-:0 Predicted Label-:setosa Original Label-:setosa\n",
      "Predicted-:1 Predicted Label-:versicolor Original Label-:versicolor\n",
      "Predicted-:2 Predicted Label-:virginica Original Label-:virginica\n",
      "Predicted-:2 Predicted Label-:virginica Original Label-:virginica\n",
      "Predicted-:0 Predicted Label-:setosa Original Label-:setosa\n",
      "Predicted-:1 Predicted Label-:versicolor Original Label-:virginica\n",
      "Predicted-:2 Predicted Label-:virginica Original Label-:virginica\n",
      "Predicted-:1 Predicted Label-:versicolor Original Label-:versicolor\n",
      "Predicted-:2 Predicted Label-:virginica Original Label-:virginica\n",
      "Predicted-:0 Predicted Label-:setosa Original Label-:setosa\n",
      "Predicted-:0 Predicted Label-:setosa Original Label-:setosa\n",
      "Predicted-:0 Predicted Label-:setosa Original Label-:setosa\n",
      "Predicted-:1 Predicted Label-:versicolor Original Label-:versicolor\n",
      "Predicted-:0 Predicted Label-:setosa Original Label-:setosa\n",
      "Predicted-:0 Predicted Label-:setosa Original Label-:setosa\n",
      "Predicted-:2 Predicted Label-:virginica Original Label-:virginica\n",
      "Predicted-:2 Predicted Label-:virginica Original Label-:virginica\n",
      "Predicted-:2 Predicted Label-:virginica Original Label-:virginica\n",
      "Predicted-:2 Predicted Label-:virginica Original Label-:virginica\n",
      "Predicted-:1 Predicted Label-:versicolor Original Label-:virginica\n",
      "Predicted-:1 Predicted Label-:versicolor Original Label-:versicolor\n",
      "Predicted-:2 Predicted Label-:virginica Original Label-:virginica\n",
      "Predicted-:1 Predicted Label-:versicolor Original Label-:versicolor\n",
      "Predicted-:0 Predicted Label-:setosa Original Label-:setosa\n",
      "Predicted-:2 Predicted Label-:virginica Original Label-:virginica\n",
      "Predicted-:1 Predicted Label-:versicolor Original Label-:virginica\n",
      "Predicted-:0 Predicted Label-:setosa Original Label-:setosa\n",
      "Predicted-:0 Predicted Label-:setosa Original Label-:setosa\n",
      "Predicted-:2 Predicted Label-:virginica Original Label-:virginica\n",
      "Predicted-:0 Predicted Label-:setosa Original Label-:setosa\n",
      "Predicted-:1 Predicted Label-:versicolor Original Label-:virginica\n",
      "Predicted-:2 Predicted Label-:virginica Original Label-:virginica\n",
      "Predicted-:1 Predicted Label-:versicolor Original Label-:versicolor\n",
      "Predicted-:1 Predicted Label-:versicolor Original Label-:versicolor\n",
      "Predicted-:2 Predicted Label-:virginica Original Label-:virginica\n",
      "Predicted-:1 Predicted Label-:versicolor Original Label-:virginica\n",
      "Predicted-:0 Predicted Label-:setosa Original Label-:setosa\n",
      "Predicted-:1 Predicted Label-:versicolor Original Label-:versicolor\n"
     ]
    }
   ],
   "source": [
    "for i in range(len(y_test)):\n",
    "    print(f'Predicted-:{y_pred[i]} Predicted Label-:{d_names[y_pred[i]]} Original Label-:{d_names[y_test[i]]}')"
   ]
  },
  {
   "cell_type": "code",
   "execution_count": 153,
   "id": "20396e59",
   "metadata": {},
   "outputs": [],
   "source": [
    "correct=[]\n",
    "incorrect=[]\n",
    "predic=[]\n",
    "trueCount=0\n",
    "falseCount=0\n",
    "for i in range(len(y_test)):\n",
    "    if y_pred[i]==y_test[i]:\n",
    "        correct.append((x_test[i],y_pred[i],d_names[y_pred[i]],True))\n",
    "        predic.append((x_test[i],y_pred[i],d_names[y_pred[i]],True))\n",
    "        trueCount=trueCount+1\n",
    "    else:\n",
    "        incorrect.append((x_test[i],y_pred[i],y_test[i],d_names[y_pred[i]],d_names[y_test[i]],False))\n",
    "        predic.append((x_test[i],y_pred[i],d_names[y_pred[i]],False))\n",
    "        falseCount=falseCount+1"
   ]
  },
  {
   "cell_type": "code",
   "execution_count": 154,
   "id": "64db813a",
   "metadata": {},
   "outputs": [
    {
     "data": {
      "text/plain": [
       "[(array([5.8, 4. , 1.2, 0.2]), 0, 'setosa', True),\n",
       " (array([5.1, 2.5, 3. , 1.1]), 1, 'versicolor', True),\n",
       " (array([6.6, 3. , 4.4, 1.4]), 1, 'versicolor', True),\n",
       " (array([5.4, 3.9, 1.3, 0.4]), 0, 'setosa', True),\n",
       " (array([7.9, 3.8, 6.4, 2. ]), 2, 'virginica', True),\n",
       " (array([6.3, 3.3, 4.7, 1.6]), 1, 'versicolor', True),\n",
       " (array([6.9, 3.1, 5.1, 2.3]), 2, 'virginica', True),\n",
       " (array([5.1, 3.8, 1.9, 0.4]), 0, 'setosa', True),\n",
       " (array([4.7, 3.2, 1.6, 0.2]), 0, 'setosa', True),\n",
       " (array([6.9, 3.2, 5.7, 2.3]), 2, 'virginica', True),\n",
       " (array([5.6, 2.7, 4.2, 1.3]), 1, 'versicolor', True),\n",
       " (array([5.4, 3.9, 1.7, 0.4]), 0, 'setosa', True),\n",
       " (array([7.1, 3. , 5.9, 2.1]), 2, 'virginica', True),\n",
       " (array([6.4, 3.2, 4.5, 1.5]), 1, 'versicolor', True),\n",
       " (array([6. , 2.9, 4.5, 1.5]), 1, 'versicolor', True),\n",
       " (array([4.4, 3.2, 1.3, 0.2]), 0, 'setosa', True),\n",
       " (array([5.8, 2.6, 4. , 1.2]), 1, 'versicolor', True),\n",
       " (array([5.6, 3. , 4.5, 1.5]), 1, 'versicolor', True),\n",
       " (array([5.4, 3.4, 1.5, 0.4]), 0, 'setosa', True),\n",
       " (array([5. , 3.2, 1.2, 0.2]), 0, 'setosa', True),\n",
       " (array([5.5, 2.6, 4.4, 1.2]), 1, 'versicolor', True),\n",
       " (array([5.4, 3. , 4.5, 1.5]), 1, 'versicolor', True),\n",
       " (array([6.7, 3. , 5. , 1.7]), 1, 'versicolor', True),\n",
       " (array([5. , 3.5, 1.3, 0.3]), 0, 'setosa', True),\n",
       " (array([7.2, 3.2, 6. , 1.8]), 2, 'virginica', True),\n",
       " (array([5.7, 2.8, 4.1, 1.3]), 1, 'versicolor', True),\n",
       " (array([5.5, 4.2, 1.4, 0.2]), 0, 'setosa', True),\n",
       " (array([5.1, 3.8, 1.5, 0.3]), 0, 'setosa', True),\n",
       " (array([6.1, 2.8, 4.7, 1.2]), 1, 'versicolor', True),\n",
       " (array([6.3, 2.5, 5. , 1.9]), 1, 'versicolor', False),\n",
       " (array([6.1, 3. , 4.6, 1.4]), 1, 'versicolor', True),\n",
       " (array([7.7, 3. , 6.1, 2.3]), 2, 'virginica', True),\n",
       " (array([5.6, 2.5, 3.9, 1.1]), 1, 'versicolor', True),\n",
       " (array([6.4, 2.8, 5.6, 2.1]), 2, 'virginica', True),\n",
       " (array([5.8, 2.8, 5.1, 2.4]), 2, 'virginica', True),\n",
       " (array([5.3, 3.7, 1.5, 0.2]), 0, 'setosa', True),\n",
       " (array([5.5, 2.3, 4. , 1.3]), 1, 'versicolor', True),\n",
       " (array([5.2, 3.4, 1.4, 0.2]), 0, 'setosa', True),\n",
       " (array([6.5, 2.8, 4.6, 1.5]), 1, 'versicolor', True),\n",
       " (array([6.7, 2.5, 5.8, 1.8]), 2, 'virginica', True),\n",
       " (array([6.8, 3. , 5.5, 2.1]), 2, 'virginica', True),\n",
       " (array([5.1, 3.5, 1.4, 0.3]), 0, 'setosa', True),\n",
       " (array([6. , 2.2, 5. , 1.5]), 1, 'versicolor', False),\n",
       " (array([6.3, 2.9, 5.6, 1.8]), 2, 'virginica', True),\n",
       " (array([6.6, 2.9, 4.6, 1.3]), 1, 'versicolor', True),\n",
       " (array([7.7, 2.6, 6.9, 2.3]), 2, 'virginica', True),\n",
       " (array([5.7, 3.8, 1.7, 0.3]), 0, 'setosa', True),\n",
       " (array([5. , 3.6, 1.4, 0.2]), 0, 'setosa', True),\n",
       " (array([4.8, 3. , 1.4, 0.3]), 0, 'setosa', True),\n",
       " (array([5.2, 2.7, 3.9, 1.4]), 1, 'versicolor', True),\n",
       " (array([5.1, 3.4, 1.5, 0.2]), 0, 'setosa', True),\n",
       " (array([5.5, 3.5, 1.3, 0.2]), 0, 'setosa', True),\n",
       " (array([7.7, 3.8, 6.7, 2.2]), 2, 'virginica', True),\n",
       " (array([6.9, 3.1, 5.4, 2.1]), 2, 'virginica', True),\n",
       " (array([7.3, 2.9, 6.3, 1.8]), 2, 'virginica', True),\n",
       " (array([6.4, 2.8, 5.6, 2.2]), 2, 'virginica', True),\n",
       " (array([6.2, 2.8, 4.8, 1.8]), 1, 'versicolor', False),\n",
       " (array([6. , 3.4, 4.5, 1.6]), 1, 'versicolor', True),\n",
       " (array([7.7, 2.8, 6.7, 2. ]), 2, 'virginica', True),\n",
       " (array([5.7, 3. , 4.2, 1.2]), 1, 'versicolor', True),\n",
       " (array([4.8, 3.4, 1.6, 0.2]), 0, 'setosa', True),\n",
       " (array([5.7, 2.5, 5. , 2. ]), 2, 'virginica', True),\n",
       " (array([6.3, 2.7, 4.9, 1.8]), 1, 'versicolor', False),\n",
       " (array([4.8, 3. , 1.4, 0.1]), 0, 'setosa', True),\n",
       " (array([4.7, 3.2, 1.3, 0.2]), 0, 'setosa', True),\n",
       " (array([6.5, 3. , 5.8, 2.2]), 2, 'virginica', True),\n",
       " (array([4.6, 3.4, 1.4, 0.3]), 0, 'setosa', True),\n",
       " (array([6.1, 3. , 4.9, 1.8]), 1, 'versicolor', False),\n",
       " (array([6.5, 3.2, 5.1, 2. ]), 2, 'virginica', True),\n",
       " (array([6.7, 3.1, 4.4, 1.4]), 1, 'versicolor', True),\n",
       " (array([5.7, 2.8, 4.5, 1.3]), 1, 'versicolor', True),\n",
       " (array([6.7, 3.3, 5.7, 2.5]), 2, 'virginica', True),\n",
       " (array([6. , 3. , 4.8, 1.8]), 1, 'versicolor', False),\n",
       " (array([5.1, 3.8, 1.6, 0.2]), 0, 'setosa', True),\n",
       " (array([6. , 2.2, 4. , 1. ]), 1, 'versicolor', True)]"
      ]
     },
     "execution_count": 154,
     "metadata": {},
     "output_type": "execute_result"
    }
   ],
   "source": [
    "predic"
   ]
  },
  {
   "cell_type": "code",
   "execution_count": 155,
   "id": "84fbfa50",
   "metadata": {},
   "outputs": [
    {
     "name": "stdout",
     "output_type": "stream",
     "text": [
      "Correct Predicted 69\n",
      "incorrect Predicted 6\n"
     ]
    }
   ],
   "source": [
    "print(\"Correct Predicted\",trueCount)\n",
    "print(\"incorrect Predicted\",falseCount)"
   ]
  },
  {
   "cell_type": "code",
   "execution_count": 156,
   "id": "f7ca722a",
   "metadata": {},
   "outputs": [
    {
     "name": "stdout",
     "output_type": "stream",
     "text": [
      "Correct Predictions-:\n"
     ]
    },
    {
     "data": {
      "text/plain": [
       "[(array([5.8, 4. , 1.2, 0.2]), 0, 'setosa', True),\n",
       " (array([5.1, 2.5, 3. , 1.1]), 1, 'versicolor', True),\n",
       " (array([6.6, 3. , 4.4, 1.4]), 1, 'versicolor', True),\n",
       " (array([5.4, 3.9, 1.3, 0.4]), 0, 'setosa', True),\n",
       " (array([7.9, 3.8, 6.4, 2. ]), 2, 'virginica', True),\n",
       " (array([6.3, 3.3, 4.7, 1.6]), 1, 'versicolor', True),\n",
       " (array([6.9, 3.1, 5.1, 2.3]), 2, 'virginica', True),\n",
       " (array([5.1, 3.8, 1.9, 0.4]), 0, 'setosa', True),\n",
       " (array([4.7, 3.2, 1.6, 0.2]), 0, 'setosa', True),\n",
       " (array([6.9, 3.2, 5.7, 2.3]), 2, 'virginica', True),\n",
       " (array([5.6, 2.7, 4.2, 1.3]), 1, 'versicolor', True),\n",
       " (array([5.4, 3.9, 1.7, 0.4]), 0, 'setosa', True),\n",
       " (array([7.1, 3. , 5.9, 2.1]), 2, 'virginica', True),\n",
       " (array([6.4, 3.2, 4.5, 1.5]), 1, 'versicolor', True),\n",
       " (array([6. , 2.9, 4.5, 1.5]), 1, 'versicolor', True),\n",
       " (array([4.4, 3.2, 1.3, 0.2]), 0, 'setosa', True),\n",
       " (array([5.8, 2.6, 4. , 1.2]), 1, 'versicolor', True),\n",
       " (array([5.6, 3. , 4.5, 1.5]), 1, 'versicolor', True),\n",
       " (array([5.4, 3.4, 1.5, 0.4]), 0, 'setosa', True),\n",
       " (array([5. , 3.2, 1.2, 0.2]), 0, 'setosa', True),\n",
       " (array([5.5, 2.6, 4.4, 1.2]), 1, 'versicolor', True),\n",
       " (array([5.4, 3. , 4.5, 1.5]), 1, 'versicolor', True),\n",
       " (array([6.7, 3. , 5. , 1.7]), 1, 'versicolor', True),\n",
       " (array([5. , 3.5, 1.3, 0.3]), 0, 'setosa', True),\n",
       " (array([7.2, 3.2, 6. , 1.8]), 2, 'virginica', True),\n",
       " (array([5.7, 2.8, 4.1, 1.3]), 1, 'versicolor', True),\n",
       " (array([5.5, 4.2, 1.4, 0.2]), 0, 'setosa', True),\n",
       " (array([5.1, 3.8, 1.5, 0.3]), 0, 'setosa', True),\n",
       " (array([6.1, 2.8, 4.7, 1.2]), 1, 'versicolor', True),\n",
       " (array([6.1, 3. , 4.6, 1.4]), 1, 'versicolor', True),\n",
       " (array([7.7, 3. , 6.1, 2.3]), 2, 'virginica', True),\n",
       " (array([5.6, 2.5, 3.9, 1.1]), 1, 'versicolor', True),\n",
       " (array([6.4, 2.8, 5.6, 2.1]), 2, 'virginica', True),\n",
       " (array([5.8, 2.8, 5.1, 2.4]), 2, 'virginica', True),\n",
       " (array([5.3, 3.7, 1.5, 0.2]), 0, 'setosa', True),\n",
       " (array([5.5, 2.3, 4. , 1.3]), 1, 'versicolor', True),\n",
       " (array([5.2, 3.4, 1.4, 0.2]), 0, 'setosa', True),\n",
       " (array([6.5, 2.8, 4.6, 1.5]), 1, 'versicolor', True),\n",
       " (array([6.7, 2.5, 5.8, 1.8]), 2, 'virginica', True),\n",
       " (array([6.8, 3. , 5.5, 2.1]), 2, 'virginica', True),\n",
       " (array([5.1, 3.5, 1.4, 0.3]), 0, 'setosa', True),\n",
       " (array([6.3, 2.9, 5.6, 1.8]), 2, 'virginica', True),\n",
       " (array([6.6, 2.9, 4.6, 1.3]), 1, 'versicolor', True),\n",
       " (array([7.7, 2.6, 6.9, 2.3]), 2, 'virginica', True),\n",
       " (array([5.7, 3.8, 1.7, 0.3]), 0, 'setosa', True),\n",
       " (array([5. , 3.6, 1.4, 0.2]), 0, 'setosa', True),\n",
       " (array([4.8, 3. , 1.4, 0.3]), 0, 'setosa', True),\n",
       " (array([5.2, 2.7, 3.9, 1.4]), 1, 'versicolor', True),\n",
       " (array([5.1, 3.4, 1.5, 0.2]), 0, 'setosa', True),\n",
       " (array([5.5, 3.5, 1.3, 0.2]), 0, 'setosa', True),\n",
       " (array([7.7, 3.8, 6.7, 2.2]), 2, 'virginica', True),\n",
       " (array([6.9, 3.1, 5.4, 2.1]), 2, 'virginica', True),\n",
       " (array([7.3, 2.9, 6.3, 1.8]), 2, 'virginica', True),\n",
       " (array([6.4, 2.8, 5.6, 2.2]), 2, 'virginica', True),\n",
       " (array([6. , 3.4, 4.5, 1.6]), 1, 'versicolor', True),\n",
       " (array([7.7, 2.8, 6.7, 2. ]), 2, 'virginica', True),\n",
       " (array([5.7, 3. , 4.2, 1.2]), 1, 'versicolor', True),\n",
       " (array([4.8, 3.4, 1.6, 0.2]), 0, 'setosa', True),\n",
       " (array([5.7, 2.5, 5. , 2. ]), 2, 'virginica', True),\n",
       " (array([4.8, 3. , 1.4, 0.1]), 0, 'setosa', True),\n",
       " (array([4.7, 3.2, 1.3, 0.2]), 0, 'setosa', True),\n",
       " (array([6.5, 3. , 5.8, 2.2]), 2, 'virginica', True),\n",
       " (array([4.6, 3.4, 1.4, 0.3]), 0, 'setosa', True),\n",
       " (array([6.5, 3.2, 5.1, 2. ]), 2, 'virginica', True),\n",
       " (array([6.7, 3.1, 4.4, 1.4]), 1, 'versicolor', True),\n",
       " (array([5.7, 2.8, 4.5, 1.3]), 1, 'versicolor', True),\n",
       " (array([6.7, 3.3, 5.7, 2.5]), 2, 'virginica', True),\n",
       " (array([5.1, 3.8, 1.6, 0.2]), 0, 'setosa', True),\n",
       " (array([6. , 2.2, 4. , 1. ]), 1, 'versicolor', True)]"
      ]
     },
     "execution_count": 156,
     "metadata": {},
     "output_type": "execute_result"
    }
   ],
   "source": [
    "print(\"Correct Predictions-:\")\n",
    "correct\n"
   ]
  },
  {
   "cell_type": "code",
   "execution_count": 157,
   "id": "a9a86599",
   "metadata": {},
   "outputs": [
    {
     "name": "stdout",
     "output_type": "stream",
     "text": [
      "In Correct Predictions-:\n"
     ]
    },
    {
     "data": {
      "text/plain": [
       "[(array([6.3, 2.5, 5. , 1.9]), 1, 2, 'versicolor', 'virginica', False),\n",
       " (array([6. , 2.2, 5. , 1.5]), 1, 2, 'versicolor', 'virginica', False),\n",
       " (array([6.2, 2.8, 4.8, 1.8]), 1, 2, 'versicolor', 'virginica', False),\n",
       " (array([6.3, 2.7, 4.9, 1.8]), 1, 2, 'versicolor', 'virginica', False),\n",
       " (array([6.1, 3. , 4.9, 1.8]), 1, 2, 'versicolor', 'virginica', False),\n",
       " (array([6. , 3. , 4.8, 1.8]), 1, 2, 'versicolor', 'virginica', False)]"
      ]
     },
     "execution_count": 157,
     "metadata": {},
     "output_type": "execute_result"
    }
   ],
   "source": [
    "print(\"In Correct Predictions-:\")\n",
    "incorrect"
   ]
  }
 ],
 "metadata": {
  "kernelspec": {
   "display_name": "Python 3 (ipykernel)",
   "language": "python",
   "name": "python3"
  },
  "language_info": {
   "codemirror_mode": {
    "name": "ipython",
    "version": 3
   },
   "file_extension": ".py",
   "mimetype": "text/x-python",
   "name": "python",
   "nbconvert_exporter": "python",
   "pygments_lexer": "ipython3",
   "version": "3.11.3"
  }
 },
 "nbformat": 4,
 "nbformat_minor": 5
}
