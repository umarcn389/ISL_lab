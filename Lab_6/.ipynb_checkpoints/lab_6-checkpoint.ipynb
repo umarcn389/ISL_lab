{
 "cells": [
  {
   "cell_type": "code",
   "execution_count": null,
   "id": "436882f9",
   "metadata": {},
   "outputs": [],
   "source": [
    "import numpy as np\n",
    "from sklearn.svm import SVC\n",
    "from sklearn.model_selection import train_test_split,GridSearchCV\n",
    "from sklearn.preprocessing import LabelEncoder\n",
    "from sklearn.datasets import load_breast_cancer\n",
    "from sklearn.metrics import confusion_matrix,accuracy_score"
   ]
  },
  {
   "cell_type": "code",
   "execution_count": null,
   "id": "09359edb",
   "metadata": {},
   "outputs": [],
   "source": [
    "weight=[303,370,298,277,377,299,382,374,303,309,359,366,311,302,373,305,371]\n",
    "Color=[3,1,3,3,4,3,1,4,4,3,1,1,3,3,4,3,3]\n",
    "label=[\"Banana\",\"Apple\",\"Banana\",\"Banana\",\"Apple\",\"Banana\",\"Apple\",\"Apple\",\"Banana\",\"Banana\",\"Apple\",\"Apple\",\"Banana\",\"Banana\",\"Apple\",\"Banana\",\"Apple\"]"
   ]
  },
  {
   "cell_type": "code",
   "execution_count": null,
   "id": "804fe29b",
   "metadata": {},
   "outputs": [],
   "source": [
    "len(weight),len(Color),len(label)"
   ]
  },
  {
   "cell_type": "code",
   "execution_count": null,
   "id": "7f2e5b58",
   "metadata": {},
   "outputs": [],
   "source": [
    "le=LabelEncoder()\n",
    "label_enc=le.fit_transform(label)\n",
    "label_enc"
   ]
  },
  {
   "cell_type": "code",
   "execution_count": null,
   "id": "90067fb1",
   "metadata": {},
   "outputs": [],
   "source": [
    "data=load_breast_cancer()\n",
    "x=data.data\n",
    "y=data.target"
   ]
  },
  {
   "cell_type": "code",
   "execution_count": null,
   "id": "5604a299",
   "metadata": {},
   "outputs": [],
   "source": [
    "x_train,x_test,y_train,y_test=train_test_split(x,y,test_size=0.3,random_state=1)"
   ]
  },
  {
   "cell_type": "code",
   "execution_count": null,
   "id": "b2c00d2d",
   "metadata": {},
   "outputs": [],
   "source": [
    "clf=SVC(kernel='linear')\n",
    "clf.fit(x_train,y_train)"
   ]
  },
  {
   "cell_type": "code",
   "execution_count": null,
   "id": "343d93ac",
   "metadata": {},
   "outputs": [],
   "source": [
    "y_pred=clf.predict(x_test)"
   ]
  },
  {
   "cell_type": "code",
   "execution_count": null,
   "id": "8f47998a",
   "metadata": {},
   "outputs": [],
   "source": [
    "clf.score(x_test,y_pred)"
   ]
  },
  {
   "cell_type": "code",
   "execution_count": null,
   "id": "e55fc60c",
   "metadata": {},
   "outputs": [],
   "source": [
    "print(confusion_matrix(y_test,y_pred))"
   ]
  },
  {
   "cell_type": "code",
   "execution_count": null,
   "id": "389a1a7d",
   "metadata": {},
   "outputs": [],
   "source": [
    "accuracy_score(y_test,y_pred)"
   ]
  }
 ],
 "metadata": {
  "kernelspec": {
   "display_name": "Python 3 (ipykernel)",
   "language": "python",
   "name": "python3"
  },
  "language_info": {
   "codemirror_mode": {
    "name": "ipython",
    "version": 3
   },
   "file_extension": ".py",
   "mimetype": "text/x-python",
   "name": "python",
   "nbconvert_exporter": "python",
   "pygments_lexer": "ipython3",
   "version": "3.11.3"
  }
 },
 "nbformat": 4,
 "nbformat_minor": 5
}
