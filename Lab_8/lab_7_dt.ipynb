{
 "cells": [
  {
   "cell_type": "code",
   "execution_count": 1,
   "id": "7fe39c97",
   "metadata": {},
   "outputs": [],
   "source": [
    "import numpy as np\n",
    "from sklearn.tree import DecisionTreeClassifier,DecisionTreeRegressor\n",
    "from sklearn.model_selection import train_test_split,GridSearchCV\n",
    "from sklearn.preprocessing import LabelEncoder\n",
    "from sklearn.metrics import confusion_matrix,accuracy_score,classification_report\n",
    "from sklearn.datasets import load_iris,load_diabetes"
   ]
  },
  {
   "cell_type": "code",
   "execution_count": 2,
   "id": "2dd21e27",
   "metadata": {},
   "outputs": [],
   "source": [
    "weather=[\"Sunny\",\"Sunny\",\"Overcast\",\"Rainy\",\"Rainy\",\"Rainy\",\"Overcast\",\"Sunny\",\"Sunny\",\"Rainy\",\"Sunny\",\"Overcast\",\"Overcast\",\"Rainy\"]\n",
    "temp=[\"Hot\",\"Hot\",\"Hot\",\"Mild\",\"Cool\",\"Cool\",\"Cool\",\"Mild\",\"Cool\",\"Mild\",\"Mild\",\"Mild\",\"Hot\",\"Mild\"]\n",
    "play=[\"No\",\"No\",\"Yes\",\"Yes\",\"Yes\",\"No\",\"Yes\",\"No\",\"Yes\",\"Yes\",\"Yes\",\"Yes\",\"Yes\",\"No\"]"
   ]
  },
  {
   "cell_type": "code",
   "execution_count": 3,
   "id": "0a82fc3a",
   "metadata": {},
   "outputs": [],
   "source": [
    "le=LabelEncoder()"
   ]
  },
  {
   "cell_type": "code",
   "execution_count": 4,
   "id": "7c02859b",
   "metadata": {},
   "outputs": [],
   "source": [
    "w_enc=le.fit_transform(weather)\n",
    "t_enc=le.fit_transform(temp)\n",
    "p_enc=le.fit_transform(play)"
   ]
  },
  {
   "cell_type": "code",
   "execution_count": 5,
   "id": "27e807b1",
   "metadata": {},
   "outputs": [],
   "source": [
    "# x_np=np.array([w_enc,t_enc])\n",
    "# x=x_np.transpose()\n",
    "# y=np.array([p_enc])"
   ]
  },
  {
   "cell_type": "code",
   "execution_count": 6,
   "id": "3a9c6eba",
   "metadata": {},
   "outputs": [],
   "source": [
    "# x_train,x_test,y_train,y_test=train_test_split(x,p_enc,test_size=0.3,random_state=1)"
   ]
  },
  {
   "cell_type": "code",
   "execution_count": 7,
   "id": "c1bd7a4d",
   "metadata": {},
   "outputs": [],
   "source": [
    "# clf=DecisionTreeClassifier(criterion=\"log_loss\")\n",
    "# clf.fit(x_train,y_train)"
   ]
  },
  {
   "cell_type": "code",
   "execution_count": 8,
   "id": "48fa57dd",
   "metadata": {},
   "outputs": [],
   "source": [
    "# y_pred=clf.predict(x_test)\n",
    "# y_pred"
   ]
  },
  {
   "cell_type": "code",
   "execution_count": 9,
   "id": "4d520fe4",
   "metadata": {},
   "outputs": [],
   "source": [
    "# accuracy_score(y_test,y_pred)"
   ]
  },
  {
   "cell_type": "code",
   "execution_count": 10,
   "id": "6ef7611f",
   "metadata": {},
   "outputs": [],
   "source": [
    "# print(confusion_matrix(y_test,y_pred))"
   ]
  },
  {
   "cell_type": "markdown",
   "id": "51bf0795",
   "metadata": {},
   "source": [
    "**Classification-:iris**"
   ]
  },
  {
   "cell_type": "code",
   "execution_count": 32,
   "id": "56c04de3",
   "metadata": {},
   "outputs": [
    {
     "data": {
      "text/plain": [
       "array(['setosa', 'versicolor', 'virginica'], dtype='<U10')"
      ]
     },
     "execution_count": 32,
     "metadata": {},
     "output_type": "execute_result"
    }
   ],
   "source": [
    "data=load_iris()\n",
    "x=data.data\n",
    "y=data.target\n",
    "data.target_names"
   ]
  },
  {
   "cell_type": "code",
   "execution_count": 12,
   "id": "5ede5d53",
   "metadata": {},
   "outputs": [],
   "source": [
    "x_train,x_test,y_train,y_test=train_test_split(x,y,test_size=0.3,random_state=1)"
   ]
  },
  {
   "cell_type": "code",
   "execution_count": 33,
   "id": "6e203764",
   "metadata": {},
   "outputs": [
    {
     "data": {
      "text/plain": [
       "array([[5.8, 4. , 1.2, 0.2],\n",
       "       [5.1, 2.5, 3. , 1.1],\n",
       "       [6.6, 3. , 4.4, 1.4],\n",
       "       [5.4, 3.9, 1.3, 0.4],\n",
       "       [7.9, 3.8, 6.4, 2. ],\n",
       "       [6.3, 3.3, 4.7, 1.6],\n",
       "       [6.9, 3.1, 5.1, 2.3],\n",
       "       [5.1, 3.8, 1.9, 0.4],\n",
       "       [4.7, 3.2, 1.6, 0.2],\n",
       "       [6.9, 3.2, 5.7, 2.3],\n",
       "       [5.6, 2.7, 4.2, 1.3],\n",
       "       [5.4, 3.9, 1.7, 0.4],\n",
       "       [7.1, 3. , 5.9, 2.1],\n",
       "       [6.4, 3.2, 4.5, 1.5],\n",
       "       [6. , 2.9, 4.5, 1.5],\n",
       "       [4.4, 3.2, 1.3, 0.2],\n",
       "       [5.8, 2.6, 4. , 1.2],\n",
       "       [5.6, 3. , 4.5, 1.5],\n",
       "       [5.4, 3.4, 1.5, 0.4],\n",
       "       [5. , 3.2, 1.2, 0.2],\n",
       "       [5.5, 2.6, 4.4, 1.2],\n",
       "       [5.4, 3. , 4.5, 1.5],\n",
       "       [6.7, 3. , 5. , 1.7],\n",
       "       [5. , 3.5, 1.3, 0.3],\n",
       "       [7.2, 3.2, 6. , 1.8],\n",
       "       [5.7, 2.8, 4.1, 1.3],\n",
       "       [5.5, 4.2, 1.4, 0.2],\n",
       "       [5.1, 3.8, 1.5, 0.3],\n",
       "       [6.1, 2.8, 4.7, 1.2],\n",
       "       [6.3, 2.5, 5. , 1.9],\n",
       "       [6.1, 3. , 4.6, 1.4],\n",
       "       [7.7, 3. , 6.1, 2.3],\n",
       "       [5.6, 2.5, 3.9, 1.1],\n",
       "       [6.4, 2.8, 5.6, 2.1],\n",
       "       [5.8, 2.8, 5.1, 2.4],\n",
       "       [5.3, 3.7, 1.5, 0.2],\n",
       "       [5.5, 2.3, 4. , 1.3],\n",
       "       [5.2, 3.4, 1.4, 0.2],\n",
       "       [6.5, 2.8, 4.6, 1.5],\n",
       "       [6.7, 2.5, 5.8, 1.8],\n",
       "       [6.8, 3. , 5.5, 2.1],\n",
       "       [5.1, 3.5, 1.4, 0.3],\n",
       "       [6. , 2.2, 5. , 1.5],\n",
       "       [6.3, 2.9, 5.6, 1.8],\n",
       "       [6.6, 2.9, 4.6, 1.3]])"
      ]
     },
     "execution_count": 33,
     "metadata": {},
     "output_type": "execute_result"
    }
   ],
   "source": [
    "x_test"
   ]
  },
  {
   "cell_type": "code",
   "execution_count": 14,
   "id": "7581277e",
   "metadata": {},
   "outputs": [
    {
     "data": {
      "text/html": [
       "<style>#sk-container-id-1 {color: black;background-color: white;}#sk-container-id-1 pre{padding: 0;}#sk-container-id-1 div.sk-toggleable {background-color: white;}#sk-container-id-1 label.sk-toggleable__label {cursor: pointer;display: block;width: 100%;margin-bottom: 0;padding: 0.3em;box-sizing: border-box;text-align: center;}#sk-container-id-1 label.sk-toggleable__label-arrow:before {content: \"▸\";float: left;margin-right: 0.25em;color: #696969;}#sk-container-id-1 label.sk-toggleable__label-arrow:hover:before {color: black;}#sk-container-id-1 div.sk-estimator:hover label.sk-toggleable__label-arrow:before {color: black;}#sk-container-id-1 div.sk-toggleable__content {max-height: 0;max-width: 0;overflow: hidden;text-align: left;background-color: #f0f8ff;}#sk-container-id-1 div.sk-toggleable__content pre {margin: 0.2em;color: black;border-radius: 0.25em;background-color: #f0f8ff;}#sk-container-id-1 input.sk-toggleable__control:checked~div.sk-toggleable__content {max-height: 200px;max-width: 100%;overflow: auto;}#sk-container-id-1 input.sk-toggleable__control:checked~label.sk-toggleable__label-arrow:before {content: \"▾\";}#sk-container-id-1 div.sk-estimator input.sk-toggleable__control:checked~label.sk-toggleable__label {background-color: #d4ebff;}#sk-container-id-1 div.sk-label input.sk-toggleable__control:checked~label.sk-toggleable__label {background-color: #d4ebff;}#sk-container-id-1 input.sk-hidden--visually {border: 0;clip: rect(1px 1px 1px 1px);clip: rect(1px, 1px, 1px, 1px);height: 1px;margin: -1px;overflow: hidden;padding: 0;position: absolute;width: 1px;}#sk-container-id-1 div.sk-estimator {font-family: monospace;background-color: #f0f8ff;border: 1px dotted black;border-radius: 0.25em;box-sizing: border-box;margin-bottom: 0.5em;}#sk-container-id-1 div.sk-estimator:hover {background-color: #d4ebff;}#sk-container-id-1 div.sk-parallel-item::after {content: \"\";width: 100%;border-bottom: 1px solid gray;flex-grow: 1;}#sk-container-id-1 div.sk-label:hover label.sk-toggleable__label {background-color: #d4ebff;}#sk-container-id-1 div.sk-serial::before {content: \"\";position: absolute;border-left: 1px solid gray;box-sizing: border-box;top: 0;bottom: 0;left: 50%;z-index: 0;}#sk-container-id-1 div.sk-serial {display: flex;flex-direction: column;align-items: center;background-color: white;padding-right: 0.2em;padding-left: 0.2em;position: relative;}#sk-container-id-1 div.sk-item {position: relative;z-index: 1;}#sk-container-id-1 div.sk-parallel {display: flex;align-items: stretch;justify-content: center;background-color: white;position: relative;}#sk-container-id-1 div.sk-item::before, #sk-container-id-1 div.sk-parallel-item::before {content: \"\";position: absolute;border-left: 1px solid gray;box-sizing: border-box;top: 0;bottom: 0;left: 50%;z-index: -1;}#sk-container-id-1 div.sk-parallel-item {display: flex;flex-direction: column;z-index: 1;position: relative;background-color: white;}#sk-container-id-1 div.sk-parallel-item:first-child::after {align-self: flex-end;width: 50%;}#sk-container-id-1 div.sk-parallel-item:last-child::after {align-self: flex-start;width: 50%;}#sk-container-id-1 div.sk-parallel-item:only-child::after {width: 0;}#sk-container-id-1 div.sk-dashed-wrapped {border: 1px dashed gray;margin: 0 0.4em 0.5em 0.4em;box-sizing: border-box;padding-bottom: 0.4em;background-color: white;}#sk-container-id-1 div.sk-label label {font-family: monospace;font-weight: bold;display: inline-block;line-height: 1.2em;}#sk-container-id-1 div.sk-label-container {text-align: center;}#sk-container-id-1 div.sk-container {/* jupyter's `normalize.less` sets `[hidden] { display: none; }` but bootstrap.min.css set `[hidden] { display: none !important; }` so we also need the `!important` here to be able to override the default hidden behavior on the sphinx rendered scikit-learn.org. See: https://github.com/scikit-learn/scikit-learn/issues/21755 */display: inline-block !important;position: relative;}#sk-container-id-1 div.sk-text-repr-fallback {display: none;}</style><div id=\"sk-container-id-1\" class=\"sk-top-container\"><div class=\"sk-text-repr-fallback\"><pre>DecisionTreeClassifier(criterion=&#x27;entropy&#x27;)</pre><b>In a Jupyter environment, please rerun this cell to show the HTML representation or trust the notebook. <br />On GitHub, the HTML representation is unable to render, please try loading this page with nbviewer.org.</b></div><div class=\"sk-container\" hidden><div class=\"sk-item\"><div class=\"sk-estimator sk-toggleable\"><input class=\"sk-toggleable__control sk-hidden--visually\" id=\"sk-estimator-id-1\" type=\"checkbox\" checked><label for=\"sk-estimator-id-1\" class=\"sk-toggleable__label sk-toggleable__label-arrow\">DecisionTreeClassifier</label><div class=\"sk-toggleable__content\"><pre>DecisionTreeClassifier(criterion=&#x27;entropy&#x27;)</pre></div></div></div></div></div>"
      ],
      "text/plain": [
       "DecisionTreeClassifier(criterion='entropy')"
      ]
     },
     "execution_count": 14,
     "metadata": {},
     "output_type": "execute_result"
    }
   ],
   "source": [
    "clf=DecisionTreeClassifier(criterion=\"entropy\")\n",
    "clf.fit(x_train,y_train)"
   ]
  },
  {
   "cell_type": "code",
   "execution_count": 15,
   "id": "f0cea781",
   "metadata": {},
   "outputs": [],
   "source": [
    "y_pred=clf.predict(x_test)"
   ]
  },
  {
   "cell_type": "code",
   "execution_count": 38,
   "id": "e6be6dbc",
   "metadata": {},
   "outputs": [
    {
     "data": {
      "text/plain": [
       "array([0])"
      ]
     },
     "execution_count": 38,
     "metadata": {},
     "output_type": "execute_result"
    }
   ],
   "source": [
    "d=np.array([5.5, 4.0 , 1.1, 0.2]).reshape(1,-1)\n",
    "pred=clf.predict(d)\n",
    "pred"
   ]
  },
  {
   "cell_type": "code",
   "execution_count": 16,
   "id": "87ae9660",
   "metadata": {},
   "outputs": [
    {
     "data": {
      "text/plain": [
       "0.9555555555555556"
      ]
     },
     "execution_count": 16,
     "metadata": {},
     "output_type": "execute_result"
    }
   ],
   "source": [
    "accuracy_score(y_test,y_pred)"
   ]
  },
  {
   "cell_type": "code",
   "execution_count": 17,
   "id": "c4f92d28",
   "metadata": {},
   "outputs": [
    {
     "name": "stdout",
     "output_type": "stream",
     "text": [
      "[[14  0  0]\n",
      " [ 0 17  1]\n",
      " [ 0  1 12]]\n"
     ]
    }
   ],
   "source": [
    "print(confusion_matrix(y_test,y_pred))"
   ]
  },
  {
   "cell_type": "markdown",
   "id": "961c2379",
   "metadata": {},
   "source": [
    "**As a regressor for diabetes**"
   ]
  },
  {
   "cell_type": "code",
   "execution_count": 18,
   "id": "e885c4dc",
   "metadata": {},
   "outputs": [],
   "source": [
    "d=load_diabetes()\n",
    "x1=d.data\n",
    "y1=d.target"
   ]
  },
  {
   "cell_type": "code",
   "execution_count": 19,
   "id": "4f8e1b19",
   "metadata": {},
   "outputs": [],
   "source": [
    "x_train_1,x_test_1,y_train_1,y_test_1=train_test_split(x1,y1,test_size=0.3,random_state=1)"
   ]
  },
  {
   "cell_type": "code",
   "execution_count": 20,
   "id": "957c7dd3",
   "metadata": {},
   "outputs": [
    {
     "data": {
      "text/plain": [
       "(309, 10)"
      ]
     },
     "execution_count": 20,
     "metadata": {},
     "output_type": "execute_result"
    }
   ],
   "source": [
    "x_train_1.shape"
   ]
  },
  {
   "cell_type": "code",
   "execution_count": 21,
   "id": "c6566b38",
   "metadata": {},
   "outputs": [
    {
     "data": {
      "text/html": [
       "<style>#sk-container-id-2 {color: black;background-color: white;}#sk-container-id-2 pre{padding: 0;}#sk-container-id-2 div.sk-toggleable {background-color: white;}#sk-container-id-2 label.sk-toggleable__label {cursor: pointer;display: block;width: 100%;margin-bottom: 0;padding: 0.3em;box-sizing: border-box;text-align: center;}#sk-container-id-2 label.sk-toggleable__label-arrow:before {content: \"▸\";float: left;margin-right: 0.25em;color: #696969;}#sk-container-id-2 label.sk-toggleable__label-arrow:hover:before {color: black;}#sk-container-id-2 div.sk-estimator:hover label.sk-toggleable__label-arrow:before {color: black;}#sk-container-id-2 div.sk-toggleable__content {max-height: 0;max-width: 0;overflow: hidden;text-align: left;background-color: #f0f8ff;}#sk-container-id-2 div.sk-toggleable__content pre {margin: 0.2em;color: black;border-radius: 0.25em;background-color: #f0f8ff;}#sk-container-id-2 input.sk-toggleable__control:checked~div.sk-toggleable__content {max-height: 200px;max-width: 100%;overflow: auto;}#sk-container-id-2 input.sk-toggleable__control:checked~label.sk-toggleable__label-arrow:before {content: \"▾\";}#sk-container-id-2 div.sk-estimator input.sk-toggleable__control:checked~label.sk-toggleable__label {background-color: #d4ebff;}#sk-container-id-2 div.sk-label input.sk-toggleable__control:checked~label.sk-toggleable__label {background-color: #d4ebff;}#sk-container-id-2 input.sk-hidden--visually {border: 0;clip: rect(1px 1px 1px 1px);clip: rect(1px, 1px, 1px, 1px);height: 1px;margin: -1px;overflow: hidden;padding: 0;position: absolute;width: 1px;}#sk-container-id-2 div.sk-estimator {font-family: monospace;background-color: #f0f8ff;border: 1px dotted black;border-radius: 0.25em;box-sizing: border-box;margin-bottom: 0.5em;}#sk-container-id-2 div.sk-estimator:hover {background-color: #d4ebff;}#sk-container-id-2 div.sk-parallel-item::after {content: \"\";width: 100%;border-bottom: 1px solid gray;flex-grow: 1;}#sk-container-id-2 div.sk-label:hover label.sk-toggleable__label {background-color: #d4ebff;}#sk-container-id-2 div.sk-serial::before {content: \"\";position: absolute;border-left: 1px solid gray;box-sizing: border-box;top: 0;bottom: 0;left: 50%;z-index: 0;}#sk-container-id-2 div.sk-serial {display: flex;flex-direction: column;align-items: center;background-color: white;padding-right: 0.2em;padding-left: 0.2em;position: relative;}#sk-container-id-2 div.sk-item {position: relative;z-index: 1;}#sk-container-id-2 div.sk-parallel {display: flex;align-items: stretch;justify-content: center;background-color: white;position: relative;}#sk-container-id-2 div.sk-item::before, #sk-container-id-2 div.sk-parallel-item::before {content: \"\";position: absolute;border-left: 1px solid gray;box-sizing: border-box;top: 0;bottom: 0;left: 50%;z-index: -1;}#sk-container-id-2 div.sk-parallel-item {display: flex;flex-direction: column;z-index: 1;position: relative;background-color: white;}#sk-container-id-2 div.sk-parallel-item:first-child::after {align-self: flex-end;width: 50%;}#sk-container-id-2 div.sk-parallel-item:last-child::after {align-self: flex-start;width: 50%;}#sk-container-id-2 div.sk-parallel-item:only-child::after {width: 0;}#sk-container-id-2 div.sk-dashed-wrapped {border: 1px dashed gray;margin: 0 0.4em 0.5em 0.4em;box-sizing: border-box;padding-bottom: 0.4em;background-color: white;}#sk-container-id-2 div.sk-label label {font-family: monospace;font-weight: bold;display: inline-block;line-height: 1.2em;}#sk-container-id-2 div.sk-label-container {text-align: center;}#sk-container-id-2 div.sk-container {/* jupyter's `normalize.less` sets `[hidden] { display: none; }` but bootstrap.min.css set `[hidden] { display: none !important; }` so we also need the `!important` here to be able to override the default hidden behavior on the sphinx rendered scikit-learn.org. See: https://github.com/scikit-learn/scikit-learn/issues/21755 */display: inline-block !important;position: relative;}#sk-container-id-2 div.sk-text-repr-fallback {display: none;}</style><div id=\"sk-container-id-2\" class=\"sk-top-container\"><div class=\"sk-text-repr-fallback\"><pre>DecisionTreeRegressor()</pre><b>In a Jupyter environment, please rerun this cell to show the HTML representation or trust the notebook. <br />On GitHub, the HTML representation is unable to render, please try loading this page with nbviewer.org.</b></div><div class=\"sk-container\" hidden><div class=\"sk-item\"><div class=\"sk-estimator sk-toggleable\"><input class=\"sk-toggleable__control sk-hidden--visually\" id=\"sk-estimator-id-2\" type=\"checkbox\" checked><label for=\"sk-estimator-id-2\" class=\"sk-toggleable__label sk-toggleable__label-arrow\">DecisionTreeRegressor</label><div class=\"sk-toggleable__content\"><pre>DecisionTreeRegressor()</pre></div></div></div></div></div>"
      ],
      "text/plain": [
       "DecisionTreeRegressor()"
      ]
     },
     "execution_count": 21,
     "metadata": {},
     "output_type": "execute_result"
    }
   ],
   "source": [
    "reg=DecisionTreeRegressor()\n",
    "reg.fit(x_train_1,y_train_1)"
   ]
  },
  {
   "cell_type": "code",
   "execution_count": 25,
   "id": "fa27f325",
   "metadata": {},
   "outputs": [
    {
     "data": {
      "text/plain": [
       "(133, 10)"
      ]
     },
     "execution_count": 25,
     "metadata": {},
     "output_type": "execute_result"
    }
   ],
   "source": [
    "x_test_1.shape"
   ]
  },
  {
   "cell_type": "code",
   "execution_count": 24,
   "id": "cd71dfc3",
   "metadata": {},
   "outputs": [],
   "source": [
    "y_pred_1=reg.predict(x_test_1)"
   ]
  },
  {
   "cell_type": "code",
   "execution_count": 23,
   "id": "401b824f",
   "metadata": {},
   "outputs": [
    {
     "data": {
      "text/plain": [
       "1.0"
      ]
     },
     "execution_count": 23,
     "metadata": {},
     "output_type": "execute_result"
    }
   ],
   "source": [
    "reg.score(x_test_1,y_pred_1)"
   ]
  },
  {
   "cell_type": "code",
   "execution_count": 44,
   "id": "4f1afdcb",
   "metadata": {},
   "outputs": [
    {
     "data": {
      "text/plain": [
       "array([-0.01764613, -0.09220405, -0.02593034, -0.00936191, -0.04664087,\n",
       "       -0.09634616, -0.03835666,  0.00306441,  0.01134862, -0.01350402,\n",
       "       -0.03421455, -0.05906719, -0.04249877, -0.01350402, -0.07563562,\n",
       "       -0.04249877,  0.02791705, -0.0010777 , -0.01764613, -0.05492509,\n",
       "        0.01549073, -0.01764613, -0.01350402,  0.13561183, -0.05492509,\n",
       "       -0.03421455, -0.0052198 ,  0.04034337, -0.05492509,  0.05276969,\n",
       "       -0.00936191, -0.04249877,  0.02791705,  0.00306441, -0.06735141,\n",
       "        0.01963284, -0.02593034, -0.0052198 ,  0.02377494,  0.00306441,\n",
       "        0.09419076, -0.00936191, -0.03421455,  0.07348023, -0.01764613,\n",
       "       -0.05078298, -0.08806194, -0.08391984, -0.02178823, -0.01350402,\n",
       "        0.00720652, -0.02178823, -0.01350402,  0.04862759,  0.00720652,\n",
       "        0.00720652, -0.01764613, -0.06735141, -0.05078298,  0.01963284,\n",
       "       -0.03421455,  0.01963284, -0.02593034, -0.07149352,  0.01134862,\n",
       "        0.01549073,  0.01963284,  0.00306441,  0.00306441,  0.01963284,\n",
       "        0.04034337,  0.06105391, -0.01764613, -0.00936191,  0.07348023,\n",
       "        0.02791705,  0.01549073, -0.0010777 , -0.08391984, -0.02593034,\n",
       "       -0.0052198 , -0.0010777 , -0.07977773, -0.04249877, -0.12948301,\n",
       "       -0.07149352, -0.03421455, -0.03835666,  0.06933812,  0.01963284,\n",
       "        0.01134862,  0.01963284,  0.01134862, -0.05492509, -0.09220405,\n",
       "       -0.0052198 ,  0.03205916,  0.07762233, -0.06735141, -0.05492509,\n",
       "       -0.0010777 ,  0.03620126, -0.0010777 , -0.03007245, -0.0632093 ,\n",
       "        0.01963284, -0.08391984, -0.0052198 ,  0.04034337,  0.10661708,\n",
       "        0.01549073, -0.04664087,  0.00306441,  0.09004865,  0.02377494,\n",
       "        0.00306441,  0.02791705,  0.13561183,  0.0569118 ,  0.02791705,\n",
       "       -0.02178823,  0.01134862,  0.04862759,  0.07348023, -0.01350402,\n",
       "        0.00720652, -0.05492509, -0.09634616, -0.07149352,  0.1190434 ,\n",
       "        0.07348023, -0.07977773,  0.02377494, -0.03007245, -0.04664087,\n",
       "        0.0569118 , -0.02178823, -0.01350402,  0.07348023, -0.0052198 ,\n",
       "        0.01549073,  0.13146972, -0.0010777 , -0.04249877,  0.00720652,\n",
       "       -0.05078298,  0.00720652,  0.04034337, -0.0010777 , -0.03835666,\n",
       "       -0.00936191, -0.01350402,  0.07348023,  0.01134862,  0.00306441,\n",
       "        0.04862759, -0.03421455,  0.02791705, -0.05078298, -0.01764613,\n",
       "       -0.04664087,  0.08590655, -0.0010777 ,  0.06105391, -0.01350402,\n",
       "       -0.01350402, -0.10463037,  0.10661708,  0.12732762,  0.01963284,\n",
       "       -0.01764613, -0.04664087,  0.08590655, -0.05492509,  0.00720652,\n",
       "        0.00306441,  0.01963284,  0.03205916, -0.03007245, -0.00936191,\n",
       "       -0.0010777 , -0.0632093 , -0.00936191,  0.0569118 ,  0.03205916,\n",
       "       -0.01764613, -0.03835666, -0.10463037, -0.00936191, -0.02593034,\n",
       "       -0.0052198 , -0.00936191, -0.05906719,  0.01963284,  0.02377494,\n",
       "        0.02377494,  0.01134862,  0.03620126, -0.05906719,  0.00720652,\n",
       "        0.04448548,  0.02791705, -0.03007245,  0.02791705,  0.07762233,\n",
       "       -0.02593034,  0.00306441,  0.03620126,  0.1190434 , -0.01350402,\n",
       "       -0.05906719, -0.02178823,  0.01963284,  0.00720652, -0.05492509,\n",
       "        0.10661708,  0.04862759,  0.04448548, -0.01350402, -0.03007245,\n",
       "       -0.06735141, -0.03835666,  0.01963284, -0.05078298, -0.00936191,\n",
       "        0.00306441, -0.05492509,  0.00720652, -0.05078298,  0.01134862,\n",
       "        0.06933812,  0.01134862,  0.03205916, -0.03835666,  0.0569118 ,\n",
       "        0.04862759,  0.01134862, -0.0010777 , -0.02178823,  0.04862759,\n",
       "        0.01963284,  0.0569118 , -0.07149352, -0.04249877, -0.0052198 ,\n",
       "       -0.12948301, -0.05906719, -0.09220405,  0.04034337,  0.00720652,\n",
       "        0.03620126,  0.04034337, -0.03007245,  0.06933812,  0.09004865,\n",
       "        0.00720652,  0.01134862, -0.05078298,  0.0569118 ,  0.00720652,\n",
       "       -0.01764613,  0.01549073,  0.00306441, -0.01764613, -0.02178823,\n",
       "        0.04034337,  0.00306441,  0.02791705,  0.07348023, -0.03835666,\n",
       "        0.01549073,  0.00720652, -0.09220405,  0.03620126,  0.01549073,\n",
       "        0.06933812, -0.02178823,  0.01549073,  0.03205916, -0.02593034,\n",
       "       -0.01764613,  0.00306441,  0.02791705, -0.03007245, -0.05492509,\n",
       "       -0.02178823, -0.0052198 , -0.0052198 , -0.01764613, -0.03421455,\n",
       "        0.04448548, -0.05906719, -0.03835666, -0.0010777 , -0.03421455,\n",
       "        0.00306441, -0.05906719, -0.05492509, -0.01350402, -0.0010777 ,\n",
       "        0.04448548,  0.03620126,  0.02791705, -0.02178823, -0.01350402,\n",
       "       -0.06735141, -0.01350402,  0.08176444, -0.07977773,  0.08176444,\n",
       "        0.03205916,  0.02377494, -0.03007245, -0.0010777 , -0.03835666,\n",
       "       -0.0010777 ,  0.04034337,  0.06933812,  0.03205916,  0.06105391,\n",
       "        0.00306441,  0.06105391,  0.08176444,  0.0569118 ,  0.01963284,\n",
       "        0.04862759,  0.02791705, -0.0052198 ,  0.01963284,  0.04448548,\n",
       "        0.01549073, -0.0052198 ,  0.03620126,  0.03205916, -0.05492509,\n",
       "       -0.05906719,  0.05276969,  0.00306441, -0.05906719,  0.01549073,\n",
       "       -0.03007245, -0.01764613,  0.02377494,  0.00720652, -0.03007245,\n",
       "       -0.0010777 ,  0.01549073, -0.03007245, -0.0010777 , -0.07149352,\n",
       "        0.13561183, -0.04249877, -0.03835666,  0.00306441,  0.06105391,\n",
       "        0.01134862, -0.07563562, -0.05906719, -0.04664087,  0.06105391,\n",
       "        0.04034337,  0.02377494,  0.04034337,  0.01134862,  0.09833287,\n",
       "        0.09833287,  0.04862759,  0.03205916,  0.08176444,  0.02791705,\n",
       "       -0.07563562, -0.01764613, -0.02178823, -0.0010777 , -0.07977773,\n",
       "        0.01963284, -0.0010777 , -0.0632093 , -0.03835666,  0.02377494,\n",
       "       -0.02593034, -0.05492509,  0.03620126,  0.00720652, -0.03835666,\n",
       "       -0.01350402,  0.00306441, -0.07563562, -0.03835666, -0.08806194,\n",
       "        0.07348023, -0.05078298,  0.06519601, -0.02178823,  0.00720652,\n",
       "       -0.05492509, -0.03421455,  0.02377494, -0.06735141,  0.01963284,\n",
       "       -0.00936191,  0.04034337,  0.04448548,  0.04034337, -0.00936191,\n",
       "       -0.03007245, -0.13776723,  0.01963284,  0.04034337, -0.0052198 ,\n",
       "       -0.04249877, -0.02593034,  0.08590655,  0.01963284,  0.00720652,\n",
       "        0.00306441,  0.03620126,  0.00306441,  0.00720652, -0.0052198 ,\n",
       "        0.06105391,  0.01549073, -0.00936191, -0.04664087,  0.02377494,\n",
       "       -0.05078298,  0.08590655,  0.03205916,  0.13146972, -0.03835666,\n",
       "       -0.01764613, -0.0010777 ,  0.10661708, -0.00936191,  0.03205916,\n",
       "       -0.03835666, -0.04664087,  0.00720652,  0.04448548,  0.01549073,\n",
       "       -0.02593034,  0.00306441])"
      ]
     },
     "execution_count": 44,
     "metadata": {},
     "output_type": "execute_result"
    }
   ],
   "source": [
    "x1[:,9]"
   ]
  }
 ],
 "metadata": {
  "kernelspec": {
   "display_name": "Python 3 (ipykernel)",
   "language": "python",
   "name": "python3"
  },
  "language_info": {
   "codemirror_mode": {
    "name": "ipython",
    "version": 3
   },
   "file_extension": ".py",
   "mimetype": "text/x-python",
   "name": "python",
   "nbconvert_exporter": "python",
   "pygments_lexer": "ipython3",
   "version": "3.11.3"
  }
 },
 "nbformat": 4,
 "nbformat_minor": 5
}
