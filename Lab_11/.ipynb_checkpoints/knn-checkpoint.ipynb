{
 "cells": [
  {
   "cell_type": "code",
   "execution_count": 9,
   "id": "0258f32e",
   "metadata": {},
   "outputs": [],
   "source": [
    "import numpy as np\n",
    "import pandas as pd\n",
    "from sklearn.datasets import load_iris\n",
    "from sklearn.model_selection import train_test_split\n",
    "from sklearn.metrics import confusion_matrix,classification_report,accuracy_score"
   ]
  },
  {
   "cell_type": "code",
   "execution_count": 10,
   "id": "a26aeb62",
   "metadata": {},
   "outputs": [
    {
     "data": {
      "text/plain": [
       "array(['setosa', 'versicolor', 'virginica'], dtype='<U10')"
      ]
     },
     "execution_count": 10,
     "metadata": {},
     "output_type": "execute_result"
    }
   ],
   "source": [
    "data=load_iris()\n",
    "x=data.data\n",
    "y=data.target\n",
    "data.target_names"
   ]
  },
  {
   "cell_type": "code",
   "execution_count": 11,
   "id": "9e615b87",
   "metadata": {},
   "outputs": [],
   "source": [
    "x_train,x_test,y_train,y_test=train_test_split(x,y,test_size=0.3,random_state=1)"
   ]
  },
  {
   "cell_type": "code",
   "execution_count": 12,
   "id": "8b6d316e",
   "metadata": {},
   "outputs": [],
   "source": [
    "def predict_one(x_train,y_train,x,k):\n",
    "    dist={}\n",
    "    for i in range(len(x_train)):\n",
    "        cd=(((x-x_train[i])**2).sum())**(1/2)\n",
    "        dist[cd]=y_train[i]\n",
    "        sorted_dist=sorted(dist.items())\n",
    "        target=[]\n",
    "        dist_sort=sorted_dist[:k]\n",
    "        for key,v in dist_sort:\n",
    "            target.append(v)      \n",
    "    return max(set(target),key = target.count)    "
   ]
  },
  {
   "cell_type": "code",
   "execution_count": 13,
   "id": "057f105c",
   "metadata": {},
   "outputs": [],
   "source": [
    "def predcit(x_train,y_train,x_test,k):\n",
    "    predictions=[]\n",
    "    for x in x_test:\n",
    "        predictions.append(predict_one(x_train,y_train,x,k))\n",
    "    return predictions    "
   ]
  },
  {
   "cell_type": "code",
   "execution_count": 36,
   "id": "93019da9",
   "metadata": {},
   "outputs": [],
   "source": [
    "y_pred=predcit(x_train,y_train,x_test,3)"
   ]
  },
  {
   "cell_type": "code",
   "execution_count": 28,
   "id": "090a7083",
   "metadata": {},
   "outputs": [],
   "source": [
    "y_pred_train=predcit(x_train,y_train,x_train,3)"
   ]
  },
  {
   "cell_type": "code",
   "execution_count": 29,
   "id": "0154b587",
   "metadata": {},
   "outputs": [
    {
     "name": "stdout",
     "output_type": "stream",
     "text": [
      "0.9523809523809523\n"
     ]
    }
   ],
   "source": [
    "print(accuracy_score(y_train,y_pred_train))"
   ]
  },
  {
   "cell_type": "code",
   "execution_count": 18,
   "id": "dfc6634d",
   "metadata": {},
   "outputs": [
    {
     "name": "stdout",
     "output_type": "stream",
     "text": [
      "[[14  0  0]\n",
      " [ 0 18  0]\n",
      " [ 0  1 12]]\n"
     ]
    }
   ],
   "source": [
    "print(confusion_matrix(y_test,y_pred))"
   ]
  },
  {
   "cell_type": "code",
   "execution_count": null,
   "id": "7d01d3ac",
   "metadata": {},
   "outputs": [],
   "source": [
    "correct=[]\n",
    "incorrect=[]\n",
    "for i in range(len(y_test)):\n",
    "    if y_pred[i]==y_test[i]:\n",
    "        correct.append((x_test[i],y_pred[i]))\n",
    "    else:\n",
    "        incorrect.append((x_test[i],y_pred[i],y_test[i]))"
   ]
  },
  {
   "cell_type": "code",
   "execution_count": 34,
   "id": "04dd57f5",
   "metadata": {},
   "outputs": [
    {
     "name": "stdout",
     "output_type": "stream",
     "text": [
      "Correct Predictions-:\n"
     ]
    },
    {
     "data": {
      "text/plain": [
       "[(array([4.8, 3. , 1.4, 0.3]), 0),\n",
       " (array([7.3, 2.9, 6.3, 1.8]), 2),\n",
       " (array([5.7, 3. , 4.2, 1.2]), 1),\n",
       " (array([4.8, 3.4, 1.6, 0.2]), 0),\n",
       " (array([4.8, 3. , 1.4, 0.1]), 0),\n",
       " (array([4.7, 3.2, 1.3, 0.2]), 0),\n",
       " (array([5.7, 2.8, 4.5, 1.3]), 1),\n",
       " (array([6.4, 2.9, 4.3, 1.3]), 1),\n",
       " (array([6.5, 3. , 5.5, 1.8]), 2),\n",
       " (array([5. , 2.3, 3.3, 1. ]), 1),\n",
       " (array([6.3, 3.3, 6. , 2.5]), 2),\n",
       " (array([5.4, 3.7, 1.5, 0.2]), 0),\n",
       " (array([5.2, 4.1, 1.5, 0.1]), 0),\n",
       " (array([6. , 2.7, 5.1, 1.6]), 2),\n",
       " (array([5.9, 3. , 5.1, 1.8]), 2)]"
      ]
     },
     "execution_count": 34,
     "metadata": {},
     "output_type": "execute_result"
    }
   ],
   "source": [
    "print(\"Correct Predictions-:\")\n",
    "correct"
   ]
  },
  {
   "cell_type": "code",
   "execution_count": 35,
   "id": "aa2e17f2",
   "metadata": {},
   "outputs": [
    {
     "name": "stdout",
     "output_type": "stream",
     "text": [
      "In Correct Predictions-:\n"
     ]
    },
    {
     "data": {
      "text/plain": [
       "[(array([7.7, 2.6, 6.9, 2.3]), 2),\n",
       " (array([5.7, 3.8, 1.7, 0.3]), 0),\n",
       " (array([5. , 3.6, 1.4, 0.2]), 0),\n",
       " (array([5.2, 2.7, 3.9, 1.4]), 1),\n",
       " (array([5.1, 3.4, 1.5, 0.2]), 0),\n",
       " (array([5.5, 3.5, 1.3, 0.2]), 0),\n",
       " (array([7.7, 3.8, 6.7, 2.2]), 2),\n",
       " (array([6.9, 3.1, 5.4, 2.1]), 2),\n",
       " (array([6.4, 2.8, 5.6, 2.2]), 2),\n",
       " (array([6.2, 2.8, 4.8, 1.8]), 2),\n",
       " (array([6. , 3.4, 4.5, 1.6]), 1),\n",
       " (array([7.7, 2.8, 6.7, 2. ]), 2),\n",
       " (array([5.7, 2.5, 5. , 2. ]), 2),\n",
       " (array([6.3, 2.7, 4.9, 1.8]), 2),\n",
       " (array([6.5, 3. , 5.8, 2.2]), 2),\n",
       " (array([4.6, 3.4, 1.4, 0.3]), 0),\n",
       " (array([6.1, 3. , 4.9, 1.8]), 2),\n",
       " (array([6.5, 3.2, 5.1, 2. ]), 2),\n",
       " (array([6.7, 3.1, 4.4, 1.4]), 1),\n",
       " (array([6.7, 3.3, 5.7, 2.5]), 2),\n",
       " (array([6. , 3. , 4.8, 1.8]), 2),\n",
       " (array([5.1, 3.8, 1.6, 0.2]), 0),\n",
       " (array([6. , 2.2, 4. , 1. ]), 1),\n",
       " (array([5.5, 2.5, 4. , 1.3]), 1),\n",
       " (array([4.9, 3.1, 1.5, 0.2]), 0),\n",
       " (array([6.7, 3.3, 5.7, 2.1]), 2),\n",
       " (array([4.4, 3. , 1.3, 0.2]), 0),\n",
       " (array([6.4, 2.7, 5.3, 1.9]), 2),\n",
       " (array([5.2, 3.5, 1.5, 0.2]), 0),\n",
       " (array([5.1, 3.3, 1.7, 0.5]), 0)]"
      ]
     },
     "execution_count": 35,
     "metadata": {},
     "output_type": "execute_result"
    }
   ],
   "source": [
    "print(\"In Correct Predictions-:\")\n",
    "incorrect"
   ]
  }
 ],
 "metadata": {
  "kernelspec": {
   "display_name": "Python 3 (ipykernel)",
   "language": "python",
   "name": "python3"
  },
  "language_info": {
   "codemirror_mode": {
    "name": "ipython",
    "version": 3
   },
   "file_extension": ".py",
   "mimetype": "text/x-python",
   "name": "python",
   "nbconvert_exporter": "python",
   "pygments_lexer": "ipython3",
   "version": "3.11.3"
  }
 },
 "nbformat": 4,
 "nbformat_minor": 5
}
