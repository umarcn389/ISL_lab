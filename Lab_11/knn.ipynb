{
 "cells": [
  {
   "cell_type": "code",
   "execution_count": 9,
   "id": "0258f32e",
   "metadata": {},
   "outputs": [],
   "source": [
    "import numpy as np\n",
    "import pandas as pd\n",
    "from sklearn.datasets import load_iris\n",
    "from sklearn.model_selection import train_test_split\n",
    "from sklearn.metrics import confusion_matrix,classification_report,accuracy_score"
   ]
  },
  {
   "cell_type": "code",
   "execution_count": 10,
   "id": "477c2389",
   "metadata": {},
   "outputs": [
    {
     "data": {
      "text/plain": [
       "array(['setosa', 'versicolor', 'virginica'], dtype='<U10')"
      ]
     },
     "execution_count": 10,
     "metadata": {},
     "output_type": "execute_result"
    }
   ],
   "source": [
    "data=load_iris()\n",
    "x=data.data\n",
    "y=data.target\n",
    "data.target_names"
   ]
  },
  {
   "cell_type": "code",
   "execution_count": 11,
   "id": "a6ad1f00",
   "metadata": {},
   "outputs": [],
   "source": [
    "x_train,x_test,y_train,y_test=train_test_split(x,y,test_size=0.3,random_state=1)"
   ]
  },
  {
   "cell_type": "code",
   "execution_count": 12,
   "id": "79306ca0",
   "metadata": {},
   "outputs": [],
   "source": [
    "def predict_one(x_train,y_train,x,k):\n",
    "    dist={}\n",
    "    for i in range(len(x_train)):\n",
    "        cd=(((x-x_train[i])**2).sum())**(1/2)\n",
    "        dist[cd]=y_train[i]\n",
    "        sorted_dist=sorted(dist.items())\n",
    "        target=[]\n",
    "        dist_sort=sorted_dist[:k]\n",
    "        for key,v in dist_sort:\n",
    "            target.append(v)      \n",
    "    return max(set(target),key = target.count)    "
   ]
  },
  {
   "cell_type": "code",
   "execution_count": 13,
   "id": "66e0199a",
   "metadata": {},
   "outputs": [],
   "source": [
    "def predcit(x_train,y_train,x_test,k):\n",
    "    predictions=[]\n",
    "    for x in x_test:\n",
    "        predictions.append(predict_one(x_train,y_train,x,k))\n",
    "    return predictions    "
   ]
  },
  {
   "cell_type": "code",
   "execution_count": 36,
   "id": "e42f2759",
   "metadata": {},
   "outputs": [],
   "source": [
    "y_pred=predcit(x_train,y_train,x_test,3)"
   ]
  },
  {
   "cell_type": "code",
   "execution_count": 28,
   "id": "2ce0aae4",
   "metadata": {},
   "outputs": [],
   "source": [
    "y_pred_train=predcit(x_train,y_train,x_train,3)"
   ]
  },
  {
   "cell_type": "code",
   "execution_count": 40,
   "id": "fd341e8a",
   "metadata": {},
   "outputs": [
    {
     "name": "stdout",
     "output_type": "stream",
     "text": [
      "Training Accuracy 0.9523809523809523\n"
     ]
    }
   ],
   "source": [
    "print(\"Training Accuracy\",accuracy_score(y_train,y_pred_train))"
   ]
  },
  {
   "cell_type": "code",
   "execution_count": 42,
   "id": "8607cb45",
   "metadata": {},
   "outputs": [
    {
     "name": "stdout",
     "output_type": "stream",
     "text": [
      "Testing Accuracy 0.9777777777777777\n"
     ]
    }
   ],
   "source": [
    "print(\"Testing Accuracy\",accuracy_score(y_test,y_pred))"
   ]
  },
  {
   "cell_type": "code",
   "execution_count": 18,
   "id": "e80a1308",
   "metadata": {},
   "outputs": [
    {
     "name": "stdout",
     "output_type": "stream",
     "text": [
      "[[14  0  0]\n",
      " [ 0 18  0]\n",
      " [ 0  1 12]]\n"
     ]
    }
   ],
   "source": [
    "print(confusion_matrix(y_test,y_pred))"
   ]
  },
  {
   "cell_type": "code",
   "execution_count": 37,
   "id": "5b772a77",
   "metadata": {},
   "outputs": [],
   "source": [
    "correct=[]\n",
    "incorrect=[]\n",
    "for i in range(len(y_test)):\n",
    "    if y_pred[i]==y_test[i]:\n",
    "        correct.append((x_test[i],y_pred[i]))\n",
    "    else:\n",
    "        incorrect.append((x_test[i],y_pred[i],y_test[i]))"
   ]
  },
  {
   "cell_type": "code",
   "execution_count": 38,
   "id": "946e530d",
   "metadata": {},
   "outputs": [
    {
     "name": "stdout",
     "output_type": "stream",
     "text": [
      "Correct Predictions-:\n"
     ]
    },
    {
     "data": {
      "text/plain": [
       "[(array([5.8, 4. , 1.2, 0.2]), 0),\n",
       " (array([5.1, 2.5, 3. , 1.1]), 1),\n",
       " (array([6.6, 3. , 4.4, 1.4]), 1),\n",
       " (array([5.4, 3.9, 1.3, 0.4]), 0),\n",
       " (array([7.9, 3.8, 6.4, 2. ]), 2),\n",
       " (array([6.3, 3.3, 4.7, 1.6]), 1),\n",
       " (array([6.9, 3.1, 5.1, 2.3]), 2),\n",
       " (array([5.1, 3.8, 1.9, 0.4]), 0),\n",
       " (array([4.7, 3.2, 1.6, 0.2]), 0),\n",
       " (array([6.9, 3.2, 5.7, 2.3]), 2),\n",
       " (array([5.6, 2.7, 4.2, 1.3]), 1),\n",
       " (array([5.4, 3.9, 1.7, 0.4]), 0),\n",
       " (array([7.1, 3. , 5.9, 2.1]), 2),\n",
       " (array([6.4, 3.2, 4.5, 1.5]), 1),\n",
       " (array([6. , 2.9, 4.5, 1.5]), 1),\n",
       " (array([4.4, 3.2, 1.3, 0.2]), 0),\n",
       " (array([5.8, 2.6, 4. , 1.2]), 1),\n",
       " (array([5.6, 3. , 4.5, 1.5]), 1),\n",
       " (array([5.4, 3.4, 1.5, 0.4]), 0),\n",
       " (array([5. , 3.2, 1.2, 0.2]), 0),\n",
       " (array([5.5, 2.6, 4.4, 1.2]), 1),\n",
       " (array([5.4, 3. , 4.5, 1.5]), 1),\n",
       " (array([6.7, 3. , 5. , 1.7]), 1),\n",
       " (array([5. , 3.5, 1.3, 0.3]), 0),\n",
       " (array([7.2, 3.2, 6. , 1.8]), 2),\n",
       " (array([5.7, 2.8, 4.1, 1.3]), 1),\n",
       " (array([5.5, 4.2, 1.4, 0.2]), 0),\n",
       " (array([5.1, 3.8, 1.5, 0.3]), 0),\n",
       " (array([6.1, 2.8, 4.7, 1.2]), 1),\n",
       " (array([6.3, 2.5, 5. , 1.9]), 2),\n",
       " (array([6.1, 3. , 4.6, 1.4]), 1),\n",
       " (array([7.7, 3. , 6.1, 2.3]), 2),\n",
       " (array([5.6, 2.5, 3.9, 1.1]), 1),\n",
       " (array([6.4, 2.8, 5.6, 2.1]), 2),\n",
       " (array([5.8, 2.8, 5.1, 2.4]), 2),\n",
       " (array([5.3, 3.7, 1.5, 0.2]), 0),\n",
       " (array([5.5, 2.3, 4. , 1.3]), 1),\n",
       " (array([5.2, 3.4, 1.4, 0.2]), 0),\n",
       " (array([6.5, 2.8, 4.6, 1.5]), 1),\n",
       " (array([6.7, 2.5, 5.8, 1.8]), 2),\n",
       " (array([6.8, 3. , 5.5, 2.1]), 2),\n",
       " (array([5.1, 3.5, 1.4, 0.3]), 0),\n",
       " (array([6.3, 2.9, 5.6, 1.8]), 2),\n",
       " (array([6.6, 2.9, 4.6, 1.3]), 1)]"
      ]
     },
     "execution_count": 38,
     "metadata": {},
     "output_type": "execute_result"
    }
   ],
   "source": [
    "print(\"Correct Predictions-:\")\n",
    "correct"
   ]
  },
  {
   "cell_type": "code",
   "execution_count": 39,
   "id": "9f654aa5",
   "metadata": {},
   "outputs": [
    {
     "name": "stdout",
     "output_type": "stream",
     "text": [
      "In Correct Predictions-:\n"
     ]
    },
    {
     "data": {
      "text/plain": [
       "[(array([6. , 2.2, 5. , 1.5]), 1, 2)]"
      ]
     },
     "execution_count": 39,
     "metadata": {},
     "output_type": "execute_result"
    }
   ],
   "source": [
    "print(\"In Correct Predictions-:\")\n",
    "incorrect"
   ]
  }
 ],
 "metadata": {
  "kernelspec": {
   "display_name": "Python 3 (ipykernel)",
   "language": "python",
   "name": "python3"
  },
  "language_info": {
   "codemirror_mode": {
    "name": "ipython",
    "version": 3
   },
   "file_extension": ".py",
   "mimetype": "text/x-python",
   "name": "python",
   "nbconvert_exporter": "python",
   "pygments_lexer": "ipython3",
   "version": "3.11.3"
  }
 },
 "nbformat": 4,
 "nbformat_minor": 5
}
