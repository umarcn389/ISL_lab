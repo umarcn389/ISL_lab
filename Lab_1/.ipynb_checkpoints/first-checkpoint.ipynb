{
 "cells": [
  {
   "cell_type": "code",
   "execution_count": 7,
   "id": "7adebf85",
   "metadata": {},
   "outputs": [],
   "source": [
    "import numpy as np\n",
    "import pandas as pd"
   ]
  },
  {
   "cell_type": "code",
   "execution_count": 53,
   "id": "2b08720f",
   "metadata": {},
   "outputs": [],
   "source": [
    "##Machine Learning/Data_science"
   ]
  },
  {
   "cell_type": "code",
   "execution_count": 39,
   "id": "f41aa419",
   "metadata": {},
   "outputs": [],
   "source": [
    "array=np.array([[1,2,3],[4,5,6]])"
   ]
  },
  {
   "cell_type": "code",
   "execution_count": 37,
   "id": "75bc6ef2",
   "metadata": {},
   "outputs": [
    {
     "data": {
      "text/plain": [
       "array([[1, 2, 3],\n",
       "       [4, 5, 6]])"
      ]
     },
     "execution_count": 37,
     "metadata": {},
     "output_type": "execute_result"
    }
   ],
   "source": [
    "array"
   ]
  },
  {
   "cell_type": "code",
   "execution_count": 51,
   "id": "1b7c6623",
   "metadata": {},
   "outputs": [],
   "source": [
    "got_data=np.arange(2,23,5)"
   ]
  },
  {
   "cell_type": "code",
   "execution_count": 52,
   "id": "47a4c7cf",
   "metadata": {},
   "outputs": [
    {
     "data": {
      "text/plain": [
       "array([ 2,  7, 12, 17, 22])"
      ]
     },
     "execution_count": 52,
     "metadata": {},
     "output_type": "execute_result"
    }
   ],
   "source": [
    "got_data"
   ]
  },
  {
   "cell_type": "code",
   "execution_count": 58,
   "id": "469d06ea",
   "metadata": {},
   "outputs": [
    {
     "data": {
      "text/plain": [
       "array([[0., 0., 0., 0.],\n",
       "       [0., 0., 0., 0.],\n",
       "       [0., 0., 0., 0.],\n",
       "       [0., 0., 0., 0.],\n",
       "       [0., 0., 0., 0.]])"
      ]
     },
     "execution_count": 58,
     "metadata": {},
     "output_type": "execute_result"
    }
   ],
   "source": [
    "zero=np.zeros((5,4))\n",
    "zero"
   ]
  },
  {
   "cell_type": "code",
   "execution_count": 101,
   "id": "991f37c1",
   "metadata": {},
   "outputs": [
    {
     "data": {
      "text/plain": [
       "array([[1., 1., 1., 1., 1.],\n",
       "       [1., 1., 1., 1., 1.],\n",
       "       [1., 1., 1., 1., 1.],\n",
       "       [1., 1., 1., 1., 1.],\n",
       "       [1., 1., 1., 1., 1.]])"
      ]
     },
     "execution_count": 101,
     "metadata": {},
     "output_type": "execute_result"
    }
   ],
   "source": [
    "ones=np.ones((5,5))\n",
    "ones"
   ]
  },
  {
   "cell_type": "code",
   "execution_count": 114,
   "id": "de93c38d",
   "metadata": {},
   "outputs": [
    {
     "data": {
      "text/plain": [
       "array([0.  , 2.25, 4.5 , 6.75, 9.  ])"
      ]
     },
     "execution_count": 114,
     "metadata": {},
     "output_type": "execute_result"
    }
   ],
   "source": [
    "lin=np.linspace(0,9,5)\n",
    "lin"
   ]
  },
  {
   "cell_type": "code",
   "execution_count": 117,
   "id": "70d60b6e",
   "metadata": {},
   "outputs": [
    {
     "data": {
      "text/plain": [
       "array([[-1.43687189,  0.156654  ,  0.0340207 ],\n",
       "       [-0.36937436, -1.25722312, -0.24906326],\n",
       "       [ 1.31270186, -1.01784376,  0.82324452]])"
      ]
     },
     "execution_count": 117,
     "metadata": {},
     "output_type": "execute_result"
    }
   ],
   "source": [
    "arr1=np.random.randn(3,3)\n",
    "arr1"
   ]
  },
  {
   "cell_type": "code",
   "execution_count": 120,
   "id": "3b98bf3a",
   "metadata": {},
   "outputs": [
    {
     "name": "stdout",
     "output_type": "stream",
     "text": [
      "[[-0.43687189  2.156654    3.0340207 ]\n",
      " [ 1.63062564  1.74277688  3.75093674]\n",
      " [ 5.31270186  3.98215624  6.82324452]]\n"
     ]
    },
    {
     "data": {
      "text/plain": [
       "array([[-2.43687189, -1.843346  , -2.9659793 ],\n",
       "       [-2.36937436, -4.25722312, -4.24906326],\n",
       "       [-2.68729814, -6.01784376, -5.17675548]])"
      ]
     },
     "execution_count": 120,
     "metadata": {},
     "output_type": "execute_result"
    }
   ],
   "source": [
    "# arr1=np.ones((3,3))\n",
    "arr2=np.array([[1,2,3],[2,3,4],[4,5,6]])\n",
    "print(arr1+arr2)\n",
    "arr1-arr2"
   ]
  },
  {
   "cell_type": "markdown",
   "id": "71fcd4b9",
   "metadata": {},
   "source": [
    "###Assignment-1"
   ]
  },
  {
   "cell_type": "code",
   "execution_count": 160,
   "id": "13e2ae9e",
   "metadata": {},
   "outputs": [
    {
     "data": {
      "text/plain": [
       "array([[23, 25, 40],\n",
       "       [ 9, 49, 49],\n",
       "       [37, 16, 20]])"
      ]
     },
     "execution_count": 160,
     "metadata": {},
     "output_type": "execute_result"
    }
   ],
   "source": [
    "arr_random=np.random.randint(0,50,size=9)\n",
    "# print(arr_1)\n",
    "arr_1=arr_random.reshape(3,3)\n",
    "arr_1"
   ]
  },
  {
   "cell_type": "code",
   "execution_count": 161,
   "id": "3f9198d6",
   "metadata": {},
   "outputs": [
    {
     "data": {
      "text/plain": [
       "array([[33, 35, 50],\n",
       "       [19, 59, 59],\n",
       "       [47, 26, 30]])"
      ]
     },
     "execution_count": 161,
     "metadata": {},
     "output_type": "execute_result"
    }
   ],
   "source": [
    "arr_2=arr_1+10\n",
    "arr_2"
   ]
  },
  {
   "cell_type": "markdown",
   "id": "349993b3",
   "metadata": {},
   "source": [
    "#Addition-Substration-Multiplication between these matrices"
   ]
  },
  {
   "cell_type": "code",
   "execution_count": 162,
   "id": "2b5216ad",
   "metadata": {},
   "outputs": [
    {
     "data": {
      "text/plain": [
       "array([[ 56,  60,  90],\n",
       "       [ 28, 108, 108],\n",
       "       [ 84,  42,  50]])"
      ]
     },
     "execution_count": 162,
     "metadata": {},
     "output_type": "execute_result"
    }
   ],
   "source": [
    "result_add=arr_1+arr_2\n",
    "result_add"
   ]
  },
  {
   "cell_type": "code",
   "execution_count": 163,
   "id": "348b0a66",
   "metadata": {},
   "outputs": [
    {
     "data": {
      "text/plain": [
       "array([[10, 10, 10],\n",
       "       [10, 10, 10],\n",
       "       [10, 10, 10]])"
      ]
     },
     "execution_count": 163,
     "metadata": {},
     "output_type": "execute_result"
    }
   ],
   "source": [
    "result_sub=arr_2-arr_1\n",
    "result_sub"
   ]
  },
  {
   "cell_type": "code",
   "execution_count": 164,
   "id": "833ec995",
   "metadata": {},
   "outputs": [
    {
     "data": {
      "text/plain": [
       "array([[ 759,  875, 2000],\n",
       "       [ 171, 2891, 2891],\n",
       "       [1739,  416,  600]])"
      ]
     },
     "execution_count": 164,
     "metadata": {},
     "output_type": "execute_result"
    }
   ],
   "source": [
    "result_mult=arr_1*arr_2\n",
    "result_mult"
   ]
  }
 ],
 "metadata": {
  "kernelspec": {
   "display_name": "Python 3 (ipykernel)",
   "language": "python",
   "name": "python3"
  },
  "language_info": {
   "codemirror_mode": {
    "name": "ipython",
    "version": 3
   },
   "file_extension": ".py",
   "mimetype": "text/x-python",
   "name": "python",
   "nbconvert_exporter": "python",
   "pygments_lexer": "ipython3",
   "version": "3.11.3"
  }
 },
 "nbformat": 4,
 "nbformat_minor": 5
}
